{
  "nbformat": 4,
  "nbformat_minor": 0,
  "metadata": {
    "kernelspec": {
      "name": "python3",
      "display_name": "Python 3"
    },
    "language_info": {
      "codemirror_mode": {
        "name": "ipython",
        "version": 3
      },
      "file_extension": ".py",
      "mimetype": "text/x-python",
      "name": "python",
      "nbconvert_exporter": "python",
      "pygments_lexer": "ipython3",
      "version": "3.7.3"
    },
    "colab": {
      "name": "Assignment_2 - Deep Neural Network.ipynb",
      "provenance": [],
      "collapsed_sections": [],
      "toc_visible": true
    },
    "accelerator": "GPU"
  },
  "cells": [
    {
      "cell_type": "markdown",
      "metadata": {
        "id": "jAY-HQLVVK05",
        "colab_type": "text"
      },
      "source": [
        "## Assignment 2: Deep Neural Network \n"
      ]
    },
    {
      "cell_type": "markdown",
      "metadata": {
        "id": "fciXmk4mVK06",
        "colab_type": "text"
      },
      "source": [
        "### Giới thiệu\n",
        "\n",
        "Để có thể hoàn tất bài tập này, các bạn cần nắm rõ những kiến thức sau:\n",
        "\n",
        "    - Neural Networks - Fully connected networks là gì, nguyên tắc hoạt động ra sao.\n",
        "\t- Giải thuật Feedforward và BackPropagation trong bài toán NN.\n",
        "\t- Giải thuật gradient descent - Batch and Mini-batch.\n",
        "\t- Regularization để tránh overfitting trong NN.\n",
        "\n",
        "Các bạn có thể tham khảo lại bài giảng của lớp để nắm vững các nội dung này. Ngoài ra, các bạn có thể đặt câu hỏi cho đội ngũ giảng dạy nếu có thắc mắc. \n",
        "\n",
        "Trong bài tập này các bạn sẽ sử dụng Neural Networks để giải quyết 2 bài toán:\n",
        "\n",
        "\t- Bài 1: phân loại dữ liệu BAT, gồm 3 lớp.\n",
        "![Dữ liệu 3 class BAT](https://i.imgur.com/d1Pd1XT.png)\n",
        "\t- Bài 2: phân loại tập fashion MNIST, gồm 10 lớp.\n",
        "![Dữ liệu Fashion MNIST](https://i.imgur.com/O9dqdId.png)\n",
        "Yêu cầu dành cho các bạn trong là giải quyết hai bài trên bằng Numpy và TensorFlow.\n",
        "\n",
        "Mục tiêu của bài tập lần này là hiện thực Neural Networks mạng Fully Connected một cách cơ bản trên Numpy và Tensorflow. Một mạng cơ bản sẽ gồm nhiều hidden layers và một lớp softmax tại layer cuối cùng phù hợp cho việc phân loại dữ liệu. \n",
        "\n",
        "![Mạng neural network. Nguồn: graphicsminer.com/neuralnetwork](https://i.imgur.com/K3Yvt20.png)\n",
        "\n",
        "Khi thiết kế một mạng cơ bản thì người dùng có thể quyết định số input feature cho tầng input. Số output sẽ là số lớp mà người đó muốn phân loại. Ví dụ như bài toán fashion MNIST thì số feature đầu vào chính bằng số pixel của mỗi ảnh, số nút đầu ra sẽ bằng số lớp cần phân loại (10). Đối với số lượng hidden layer và số lượng nodes tương ứng, ta có thể tùy chọn.\n",
        "\n",
        "Một chú ý rất quan trọng là số nodes đầu ra của layer trước sẽ là số inputs đầu vào của layers sau đó.\n"
      ]
    },
    {
      "cell_type": "markdown",
      "metadata": {
        "id": "rPH8uEJCVK07",
        "colab_type": "text"
      },
      "source": [
        "## I. Thực hiện Deep Neural Network với Numpy\n",
        "### Những công việc bạn phải thực hiện \n",
        "\n",
        "1. Các hàm activation `sigmoid`, `tanh`, `relu`, `softmax` và đạo hàm của nó `sigmoid_grad`, `tanh_grad`, `relu_grad`.\n",
        "2. Hàm `forward` và `backward` ở class `HiddenLayer`\n",
        "```python\n",
        "    class HiddenLayer:\n",
        "    \n",
        "        def forward(self, X):\n",
        "            ...\n",
        "    \n",
        "        def backward(self, X, delta_prev):\n",
        "            ...\n",
        "```\n",
        "3. Hàm `forward`, `backward`, `compute_loss` ở class `NeuralNetwork`\n",
        "```python\n",
        "    class NeuralNetwork:\n",
        "        \n",
        "        def forward(self, X):\n",
        "            ...\n",
        "            \n",
        "        def backward(self, X, Y, layers):\n",
        "            ...\n",
        "            \n",
        "        def compute_loss(self, Y, Y_hat):\n",
        "            ...\n",
        "```"
      ]
    },
    {
      "cell_type": "markdown",
      "metadata": {
        "id": "TohoN6f1VK07",
        "colab_type": "text"
      },
      "source": [
        "### Ký hiệu\n",
        "\n",
        "- $L$: số layers trong mạng neural network. \n",
        "- $l = 0,1,..,L$ với $0$ là layer input và $L$ layer output.\n",
        "- $n^{[l]}$ là số neurons tại layer $l$\n",
        "- $l-1$: layer trước theo chiều forward của $l$.\n",
        "- $l+1$: layer trước theo chiều backward của $l$.\n",
        "- $\\sigma'(x)$: đạo hàm hàm activation theo x (general case cho cả đạo hàm sigmoid, tanh, relu).\n",
        "- $Z^{[l]}$: linear function values tại layer $l$.\n",
        "- $A^{[l]}$: activation function values tại layer $l$."
      ]
    },
    {
      "cell_type": "markdown",
      "metadata": {
        "id": "dneL9wNuVK08",
        "colab_type": "text"
      },
      "source": [
        "### Import các thư viện cần thiết"
      ]
    },
    {
      "cell_type": "markdown",
      "metadata": {
        "id": "He9JhemNND3D",
        "colab_type": "text"
      },
      "source": [
        "**Chú ý:** Nếu bạn chạy trên Google Colab thì các thư viện này đã được tích hợp sẵn. Nếu bạn chạy trên máy cá nhân, bạn cần install các thư viện *numpy*, *matplotlib*, *googledrivedownloader*, *sklearn*."
      ]
    },
    {
      "cell_type": "code",
      "metadata": {
        "id": "z5pqVHsNVK08",
        "colab_type": "code",
        "colab": {}
      },
      "source": [
        "%matplotlib inline\n",
        "import numpy as np\n",
        "import matplotlib.pyplot as plt\n",
        "from IPython import display\n",
        "from google_drive_downloader import GoogleDriveDownloader as gdd\n",
        "import os\n",
        "import sys\n",
        "from sklearn.metrics import confusion_matrix"
      ],
      "execution_count": 0,
      "outputs": []
    },
    {
      "cell_type": "markdown",
      "metadata": {
        "id": "qGdoufr7VK0-",
        "colab_type": "text"
      },
      "source": [
        "### Download dữ liệu và các utility functions"
      ]
    },
    {
      "cell_type": "code",
      "metadata": {
        "id": "2GG7Zj3aVK0_",
        "colab_type": "code",
        "outputId": "c4e893ea-08df-4ea3-9d25-d6e1bcbeffdb",
        "colab": {
          "base_uri": "https://localhost:8080/",
          "height": 69
        }
      },
      "source": [
        "# DOWNLOAD DATA\n",
        "gdd.download_file_from_google_drive(file_id='10W7c6WScnTeFbh2wx3kyVbzGg07B5QwE', \n",
        "                                    dest_path=os.path.join(os.getcwd(), 'assignment2.zip'), unzip=True)\n",
        "\n",
        "if sys.platform.startswith(\"win\"):\n",
        "    !move \"./assignment2/data\" \".\"\n",
        "    !move \"./assignment2/test\" \".\"\n",
        "    !move \"./assignment2/utils\" \".\"\n",
        "    !del \"assignment2.zip\"\n",
        "    !rd /s /q \"assignment2\" \"__MACOSX\"\n",
        "    !dir\n",
        "else:\n",
        "    !mv assignment2/* .\n",
        "    !rm assignment2.zip\n",
        "    !rm -rf assignment2 __MACOSX\n",
        "    # SHOW THE ITEMS OF CURRENT DIRRECTORY\n",
        "    !ls"
      ],
      "execution_count": 3,
      "outputs": [
        {
          "output_type": "stream",
          "text": [
            "Downloading 10W7c6WScnTeFbh2wx3kyVbzGg07B5QwE into /content/assignment2.zip... Done.\n",
            "Unzipping...Done.\n",
            "data  sample_data  test  utils\n"
          ],
          "name": "stdout"
        }
      ]
    },
    {
      "cell_type": "markdown",
      "metadata": {
        "id": "ctdckAhpYkqf",
        "colab_type": "text"
      },
      "source": [
        "### Import utility functions"
      ]
    },
    {
      "cell_type": "code",
      "metadata": {
        "id": "sJeV7fvvYtl1",
        "colab_type": "code",
        "colab": {}
      },
      "source": [
        "from utils.util import *\n",
        "from utils.gradient_check import *"
      ],
      "execution_count": 0,
      "outputs": []
    },
    {
      "cell_type": "markdown",
      "metadata": {
        "id": "PVLd-jBpVK1B",
        "colab_type": "text"
      },
      "source": [
        "### Các hàm activation\n",
        "\n",
        "$$sigmoid(x) = \\frac{1}{1+e^{-x}}$$\n",
        "\n",
        "$$tanh(x) = \\frac{e^{x} - e^{-x}}{e^{x} + e^{-x}} $$\n",
        "\n",
        "$$relu(x) = \\begin{cases} x, & \\mbox{if } x > 0 \\\\ 0, & \\mbox{if } x <= 0 \\end{cases}$$\n",
        "\n",
        "$$sigmoid'(x) = sigmoid(x)(1 - sigmoid(x)) $$\n",
        "\n",
        "$$tanh'(x) = 1 - tanh^2(x)$$\n",
        "\n",
        "$$relu'(x) = \\begin{cases} 1, & \\mbox{if } x > 0 \\\\ 0, & \\mbox{if } x <= 0 \\end{cases}$$"
      ]
    },
    {
      "cell_type": "markdown",
      "metadata": {
        "id": "uQxzv26Lo1a_",
        "colab_type": "text"
      },
      "source": [
        "#### \\[TODO 1\\] Cài đặt các hàm activation\n",
        "Định nghĩa các hàm activation ở cell bên dưới. (1đ)"
      ]
    },
    {
      "cell_type": "code",
      "metadata": {
        "id": "hI_pLSHVVK1C",
        "colab_type": "code",
        "colab": {}
      },
      "source": [
        "def sigmoid(x):\n",
        "    \"\"\"\n",
        "    Sigmoid function.\n",
        "    :param x: input\n",
        "    \"\"\"\n",
        "    #### [TODO 1] START CODE HERE #### \n",
        "    x = 1 / (1 + np.exp(-x))\n",
        "    #### END CODE HERE ####\n",
        "    return x\n",
        "\n",
        "\n",
        "def sigmoid_grad(x):\n",
        "    \"\"\"\n",
        "    Compute gradient of sigmoid.\n",
        "    :param x: input\n",
        "    \"\"\"\n",
        "    \n",
        "    #### [TODO 1] START CODE HERE #### \n",
        "    da = sigmoid(x) * (1 - sigmoid(x))\n",
        "    #### END CODE HERE ####\n",
        "    return da\n",
        "\n",
        "\n",
        "def relu(x):\n",
        "    \"\"\"\n",
        "    Rectified linear unit function.\n",
        "    :param x: input\n",
        "    \"\"\"\n",
        "    \n",
        "    #### [TODO 1] START CODE HERE #### \n",
        "    x = np.maximum(x, 0)\n",
        "    #### END CODE HERE ####\n",
        "    return x\n",
        "\n",
        "\n",
        "def relu_grad(x):\n",
        "    \"\"\"\n",
        "    Compute gradient of ReLU.\n",
        "    :param x: input\n",
        "    \"\"\"\n",
        "    \n",
        "    #### [TODO 1] START CODE HERE #### \n",
        "    da = 1.0 * (x > 0)\n",
        "    #### END CODE HERE ####\n",
        "    return da\n",
        "\n",
        "\n",
        "def tanh(x):\n",
        "    \"\"\"\n",
        "    Tanh function.\n",
        "    :param x: input\n",
        "    \"\"\"\n",
        "   \n",
        "    #### [TODO 1] START CODE HERE #### \n",
        "    x = np.tanh(x)\n",
        "    #### END CODE HERE ####\n",
        "    return x\n",
        "\n",
        "\n",
        "def tanh_grad(x):\n",
        "    \"\"\"\n",
        "    Compute gradient for tanh.\n",
        "    :param x: input\n",
        "    \"\"\"\n",
        "\n",
        "    #### [TODO 1] START CODE HERE ####\n",
        "    da =  1 - tanh(x)**2\n",
        "    #### END CODE HERE ####\n",
        "    return da\n",
        "\n",
        "def softmax(x):\n",
        "    \"\"\"\n",
        "    Stable softmax function.\n",
        "    :param x: input\n",
        "    \"\"\"\n",
        "    #### [TODO 1] START CODE HERE ####\n",
        "    e_x = np.exp(x - np.max(x, axis = 1, keepdims = True))\n",
        "    probs = e_x / e_x.sum(axis = 1, keepdims = True)    \n",
        "    #### END CODE HERE ####\n",
        "    return probs "
      ],
      "execution_count": 0,
      "outputs": []
    },
    {
      "cell_type": "markdown",
      "metadata": {
        "id": "0c92wODTVK1E",
        "colab_type": "text"
      },
      "source": [
        "#### Kiểm tra lại lại các hàm activation đã cài đặt\n",
        "\n",
        "Bạn có thể kiểm tra cái hàm bạn đã cài đặt bằng đoạn code bên dưới."
      ]
    },
    {
      "cell_type": "code",
      "metadata": {
        "id": "Neen94acVK1E",
        "colab_type": "code",
        "outputId": "0474ea15-0eff-49b5-bb94-a3eec27d41f3",
        "colab": {
          "base_uri": "https://localhost:8080/",
          "height": 35
        }
      },
      "source": [
        "import pickle\n",
        "\n",
        "np.random.seed(2019)\n",
        "func_test = [\"sigmoid\", \"relu\", \"tanh\", \"sigmoid_grad\", \"relu_grad\", \"tanh_grad\", \"softmax\"]\n",
        "test_activation = dict()\n",
        "results = []\n",
        "with open(\"test/activation.pkl\", \"rb\") as f:\n",
        "    test_activation = pickle.load(f)\n",
        "\n",
        "test_x = test_activation[\"test_x\"]\n",
        "sample = test_activation[\"sample\"]\n",
        "\n",
        "for i, func_str in enumerate(func_test):\n",
        "    func = eval(func_str)\n",
        "    if func(test_x) is None:\n",
        "        results.append(func_str)\n",
        "        continue\n",
        "    sample.append(func(test_x))\n",
        "    if not np.allclose(func(test_x), sample[i]):\n",
        "        results.append(func_str)\n",
        "\n",
        "if len(results) == 0:\n",
        "    print(\"Test PASS!\")\n",
        "else:\n",
        "    print(\"Test FAILED: \" + \", \".join(results))"
      ],
      "execution_count": 6,
      "outputs": [
        {
          "output_type": "stream",
          "text": [
            "Test PASS!\n"
          ],
          "name": "stdout"
        }
      ]
    },
    {
      "cell_type": "markdown",
      "metadata": {
        "id": "VZTlOP46VK1G",
        "colab_type": "text"
      },
      "source": [
        "### Class `HiddenLayer` \n",
        "\n",
        "#### Hướng dẫn:\n",
        "\n",
        "1. Hàm `forward`:\n",
        "    - Hàm nhận vào tham số input $X$ (là output của hidden layer trước theo chiều forward, layer $l-1$).\n",
        "    - Tính linear transformation của $X$ ($A^{[l-1]}$): $Z^{[l]} = XW$.\n",
        "    - Sau đó tính nonlinear transformation: $A^{[l]} = \\sigma(Z^{[l]})$ với $\\sigma$ là hàm activation.\n",
        "    \n",
        "    \n",
        "2. Hàm `backward`:\n",
        "    - Hàm nhận vào 2 tham số input `X`(là output của hidden layer trước đó theo chiều forward) với `delta_prev` (delta trước đó theo chiều backward).\n",
        "    - Tính delta tại layer $l$: \n",
        "    \n",
        "        $$\\delta^{[l]} = \\frac{\\partial J}{\\partial A^{[l]}}\\frac{\\partial A^{[l]}}{\\partial Z^{[l]}} =  \\delta^{[l+1]} * \\sigma'(Z^{[l]})$$ \n",
        "\n",
        "        Chú ý: $*$ operation là element-wise multiplication.\n",
        "    - Tính W_grad (without regularization): $\\nabla W^{[l]} = (A^{[l-1]})^T\\delta^{[l]} $\n",
        "    - With regularization:  $\\nabla W^{[l]} = (A^{[l-1]})^T\\delta^{[l]} + \\frac{\\lambda}{N} W^{[l]}$ với $\\lambda$ là hệ số regularization (hyperparameter mình sẽ chọn)."
      ]
    },
    {
      "cell_type": "markdown",
      "metadata": {
        "id": "qfSLDffVYQdc",
        "colab_type": "text"
      },
      "source": [
        "#### \\[TODO 2\\] Hàm `forward`\n",
        "Định nghĩa hàm `forward` trong class `HiddenLayer` (1đ)"
      ]
    },
    {
      "cell_type": "markdown",
      "metadata": {
        "id": "d4uUr2FKh97J",
        "colab_type": "text"
      },
      "source": [
        "#### \\[TODO 3\\] Hàm `backward` \n",
        "Định nghĩa hàm `backward` trong class `HiddenLayer` (2đ)\n",
        "  + Tính W_grad (without regularization) (1đ)\n",
        "  + Tính W_grad (with L2 regularization) (1đ)"
      ]
    },
    {
      "cell_type": "code",
      "metadata": {
        "id": "eROUmEreVK1H",
        "colab_type": "code",
        "colab": {}
      },
      "source": [
        "class HiddenLayer:\n",
        "    \"\"\"\n",
        "    Abstract hidden layer used in Neural Network.\n",
        "    \"\"\"\n",
        "    \n",
        "    def __init__(self, num_neurons, activation, reg = 0.0):\n",
        "        \"\"\"\n",
        "        Constructor for abstract hidden layer.\n",
        "        \n",
        "        Parameters\n",
        "        ----------\n",
        "        num_neurons: (integer) specify number of neurons in this layer.\n",
        "        activation: (string) indicating which activation function to be used.  \n",
        "                        the string must be in [\"sigmoid\", \"relu\", \"tanh\", \"softmax\"]\n",
        "        reg: (float) regularization coefficient to help with overfitting.\n",
        "        \"\"\"\n",
        "        assert activation in [\"sigmoid\", \"relu\", \"tanh\", \"softmax\"], \"Activation must be in [sigmoid, relu, tanh, softmax]\"\n",
        "        self.num_neurons = num_neurons\n",
        "        self.W = None \n",
        "        self.activation = activation\n",
        "        self.reg = reg\n",
        "\n",
        "    def forward(self, X):\n",
        "        \"\"\"\n",
        "        Compute nonlinear function of input X.\n",
        "            X -> LINEAR -> ACTIVATION.\n",
        "            \n",
        "        `activation_function` variable below is equal to this piece of code:\n",
        "        \n",
        "            if (self.activation == 'sigmoid'):\n",
        "                activation_function = sigmoid\n",
        "            elif (self.activation == 'relu'):\n",
        "                activation_function = reLU\n",
        "            elif (self.activation == 'tanh'):\n",
        "                activation_function = tanh\n",
        "            elif (self.activation == 'softmax'):\n",
        "                activation_function = softmax\n",
        "        \n",
        "        Parameters\n",
        "        ----------\n",
        "        X: output of the previous layer (input for the current layer).\n",
        "        \n",
        "        Returns\n",
        "        -------\n",
        "        A: output of the current layer.\n",
        "        \"\"\"\n",
        "        if self.W is None:\n",
        "            W_shape = (X.shape[1], self.num_neurons)\n",
        "            self.W = np.random.normal(0, np.sqrt(2/(X.shape[1]+self.num_neurons)), W_shape)\n",
        "        \n",
        "        activation_function = eval(self.activation) # this returns function variable\n",
        "        \n",
        "        #### [TODO 2] START CODE HERE ####\n",
        "        self.Z = np.dot(X, self.W)\n",
        "        A = activation_function(self.Z) # use `activation_function` function above apply to `Z`\n",
        "        #### END CODE HERE ####\n",
        "        return A\n",
        "\n",
        "    def backward(self, X, delta_prev):\n",
        "        \"\"\"\n",
        "        Compute gradient w.r.t X and W at the current layer.\n",
        "            X <- LINEAR <- ACTIVATION.\n",
        "            W <- LINEAR <- ACTIVATION.\n",
        "        \n",
        "        Parameters\n",
        "        ----------\n",
        "        X: output of the previous layer (input for the current layer).\n",
        "        delta_prev: delta dot product with W computed from the next layer (in feedforward direction) \n",
        "                                or previous layer (in backpropagation direction)\n",
        "        \"\"\"\n",
        "        activation_grad_function = eval(self.activation + \"_grad\")\n",
        "        z = self.Z\n",
        "\n",
        "        #### [TODO 3] START CODE HERE ####                                \n",
        "        delta = delta_prev * activation_grad_function(z)\n",
        "        W_grad =  np.dot(X.T, delta) # without regularization\n",
        "        #### END CODE HERE ####\n",
        "\n",
        "        #### [TODO 3] START CODE HERE ####                                \n",
        "        W_grad += self.reg * self.W  / len(X) # with L2 regularization\n",
        "        #### END CODE HERE ####\n",
        "        \n",
        "        return W_grad, delta"
      ],
      "execution_count": 0,
      "outputs": []
    },
    {
      "cell_type": "markdown",
      "metadata": {
        "id": "LKWbE4ESVK1I",
        "colab_type": "text"
      },
      "source": [
        "#### Kiểm tra class `HiddenLayer` được cài đặt\n",
        "\n",
        "Sau khi hoàn thành TODO 2 và TODO 3, bạn có thể kiểm tra class `HiddenLayer` bạn đã cài đặt bằng cách chạy cell bên dưới:"
      ]
    },
    {
      "cell_type": "code",
      "metadata": {
        "id": "vUZJGVMuVK1J",
        "colab_type": "code",
        "outputId": "9eb431d4-d9e4-42b2-a5d4-07bc41cc6de4",
        "colab": {
          "base_uri": "https://localhost:8080/",
          "height": 52
        }
      },
      "source": [
        "np.random.seed(2019)\n",
        "case_1 = HiddenLayer(10, \"sigmoid\", reg=0)\n",
        "case_2 = HiddenLayer(14, \"tanh\", reg=0)\n",
        "case_3 = HiddenLayer(17, \"relu\", reg=0)\n",
        "\n",
        "case_mapping = {0: \"(foward)\", 1: \"(backward W_grad)\", 2: \"(backward delta)\"}\n",
        "\n",
        "with open(\"test/hidden.pkl\", \"rb\") as f:\n",
        "    test_hidden = pickle.load(f)\n",
        "\n",
        "test_x = test_hidden[\"test_x\"]\n",
        "sample = test_hidden[\"sample\"]\n",
        "test_delta = test_hidden[\"test_delta\"]\n",
        "results = []\n",
        "for ind, cl_str in enumerate([\"case_1\", \"case_2\", \"case_3\"]):\n",
        "    hidden_layer = eval(cl_str)\n",
        "    case = (hidden_layer.forward(test_x), ) + hidden_layer.backward(test_x, test_delta[ind])\n",
        "    for i in range(3):\n",
        "        if not np.allclose(sample[ind][i], case[i]):\n",
        "            results.append(cl_str + case_mapping[i])\n",
        "\n",
        "print(\"TEST HiddenLayer WITHOUT REGULARIZATION\")\n",
        "if len(results) == 0:\n",
        "    print(\"Test PASS!\")\n",
        "else:\n",
        "    print(\"Test FAILED: \" + \", \".join(results))"
      ],
      "execution_count": 8,
      "outputs": [
        {
          "output_type": "stream",
          "text": [
            "TEST HiddenLayer WITHOUT REGULARIZATION\n",
            "Test PASS!\n"
          ],
          "name": "stdout"
        }
      ]
    },
    {
      "cell_type": "markdown",
      "metadata": {
        "id": "t3490b6mfJwM",
        "colab_type": "text"
      },
      "source": [
        "Các bạn nên chắc chắn rằng mình đã pass hết các test cases để làm tiếp."
      ]
    },
    {
      "cell_type": "markdown",
      "metadata": {
        "id": "P8HSsFNGfMqi",
        "colab_type": "text"
      },
      "source": [
        "#### Kiểm tra Hidden Layer với Regularization\n",
        "\n",
        "Các bạn có thể bỏ qua phần test case này nếu chưa làm với Regularization."
      ]
    },
    {
      "cell_type": "code",
      "metadata": {
        "id": "dYsQBucQfQWq",
        "colab_type": "code",
        "outputId": "9c71c943-3c60-4d55-ae2f-3c6fdccf9c10",
        "colab": {
          "base_uri": "https://localhost:8080/",
          "height": 52
        }
      },
      "source": [
        "np.random.seed(2019)\n",
        "case_1 = HiddenLayer(10, \"sigmoid\", reg=0.9)\n",
        "case_2 = HiddenLayer(14, \"tanh\", reg=0.9)\n",
        "case_3 = HiddenLayer(17, \"relu\", reg=0.9)\n",
        "\n",
        "case_mapping = {0: \"(foward)\", 1: \"(backward W_grad)\", 2: \"(backward delta)\"}\n",
        "\n",
        "with open(\"test/hidden_reg.pkl\", \"rb\") as f:\n",
        "    test_hidden = pickle.load(f)\n",
        "\n",
        "test_x = test_hidden[\"test_x\"]\n",
        "sample = test_hidden[\"sample\"]\n",
        "test_delta = test_hidden[\"test_delta\"]\n",
        "results = []\n",
        "for ind, cl_str in enumerate([\"case_1\", \"case_2\", \"case_3\"]):\n",
        "    hidden_layer = eval(cl_str)\n",
        "    case = (hidden_layer.forward(test_x), ) + hidden_layer.backward(test_x, test_delta[ind])\n",
        "    for i in range(3):\n",
        "        if not np.allclose(sample[ind][i], case[i]):\n",
        "            results.append(cl_str + case_mapping[i])\n",
        "\n",
        "print(\"TEST HiddenLayer WITH REGULARIZATION\")\n",
        "if len(results) == 0:\n",
        "    print(\"Test PASS!\")\n",
        "else:\n",
        "    print(\"Test FAILED: \" + \", \".join(results))"
      ],
      "execution_count": 9,
      "outputs": [
        {
          "output_type": "stream",
          "text": [
            "TEST HiddenLayer WITH REGULARIZATION\n",
            "Test PASS!\n"
          ],
          "name": "stdout"
        }
      ]
    },
    {
      "cell_type": "markdown",
      "metadata": {
        "id": "LRqpw1yWVK1K",
        "colab_type": "text"
      },
      "source": [
        "### Class `NeuralNetwork`\n",
        "\n",
        "#### Hướng dẫn:\n",
        "\n",
        "1. Hàm `forward`:\n",
        "    - Sử dụng hàm `forward` class `HiddenLayer`. Output của layer này [$l$] sẽ là input của layer sau [$l+1$]. Thêm output của layer [$l$] vào list `all_X` \n",
        "\n",
        "\n",
        "2. Hàm `compute_loss`:\n",
        "    - Cross-entropy, không regularization: $$J = -\\frac{1}{N}\\sum_{i=1}^N\\sum_{k=1}^C y_{ik}\\log(a_{ik}^{[L]})$$\n",
        "    - Cross-entropy, L2 regularization: $$J = -\\frac{1}{N}\\sum_{i=1}^N\\sum_{k=1}^C y_{ik}\\log(a_{ik}^{[L]}) + \\frac{\\lambda}{2N}\\sum_{l=1}^L\\|\\mathbf{W}^{[l]} \\|_2^2$$\n",
        "    \n",
        "    \n",
        "3. Hàm `backward`:\n",
        "\n",
        "    - Tính `delta_last` $\\delta^{[L]} $ và `grad_last` $\\nabla W^{[L]}$ theo hàm softmax (để ý superscript [L]): \n",
        "    \n",
        "        $$\\delta^{[L]} = \\frac{\\partial J}{\\partial \\mathbf{A}^{[L]}}\\frac{\\partial \\mathbf{A}^{[L]}}{\\partial \\mathbf{Z}^{[L]}} = \\frac{1}{N} (\\mathbf{A}^{[L]} - \\mathbf{Y})$$\n",
        "        **- Without regularization**\n",
        "        \n",
        "        $$\\nabla W^{[L]} = \\frac{\\partial J}{\\partial \\mathbf{A}^{[L]}}\\frac{\\partial \\mathbf{A}^{[L]}}{\\partial \\mathbf{Z}^{[L]}}\\frac{\\partial \\mathbf{Z}^{[L]}}{\\partial \\mathbf{W}^{[L]}} = \\delta^{[L]} \\frac{\\partial \\mathbf{Z}^{[L]}}{\\partial \\mathbf{W}^{[L]}} = \\frac{1}{N} (\\mathbf{A}^{[L-1]})^T (\\mathbf{A}^{[L]} - \\mathbf{Y}) $$\n",
        "        $$$$\n",
        "        **- With L2 regularization**\n",
        "        $$\\nabla \\mathbf{W}^{[L]} = (\\mathbf{A}^{[L-1]})^T \\delta^{[L]} + \\frac{\\lambda}{N} W^{[l]}$$\n",
        "\n",
        "    - Tính `delta_prev` $\\delta^{[l]}$ và `grad_W` $\\nabla \\mathbf{W}^{[l]}$ ở các tầng ở giữa:\n",
        "    \n",
        "        $$\\delta^{[l]} = \\left(\\delta^{[l+1]}(\\mathbf{W}^{[l+1]})^T\\right) * \\sigma'(\\mathbf{Z^{[l]}})$$\n",
        "        **- Without regularization**\n",
        "        \n",
        "        $$\\nabla \\mathbf{W}^{[l]} = (\\mathbf{A}^{[l-1]})^T \\delta^{[l]}$$\n",
        "        **- With L2 regularization**\n",
        "        $$\\nabla \\mathbf{W}^{[l]} = (\\mathbf{A}^{[l-1]})^T \\delta^{[l]} + \\frac{\\lambda}{N} W^{[l]}$$\n",
        "        \n",
        "        Mục đích tính `delta` để tính gradient của `W` ở các tầng trước theo chiều forward."
      ]
    },
    {
      "cell_type": "markdown",
      "metadata": {
        "id": "9sjTUfDesi3b",
        "colab_type": "text"
      },
      "source": [
        "#### \\[TODO 4\\] Hàm `forward`\n",
        "Định nghĩa hàm `forward` trong class `NeuralNetwork` (0.5đ)"
      ]
    },
    {
      "cell_type": "markdown",
      "metadata": {
        "id": "TP4gB_yyjPoN",
        "colab_type": "text"
      },
      "source": [
        "#### \\[TODO 5\\] Hàm `compute_loss`\n",
        "Định nghĩa hàm `compute_loss` trong class `NeuralNetwork` (1.5đ)\n",
        "  + Loss without regularization\n",
        "  + Loss of L2 regularization"
      ]
    },
    {
      "cell_type": "markdown",
      "metadata": {
        "id": "07CXsA6GjTXY",
        "colab_type": "text"
      },
      "source": [
        "#### \\[TODO 6\\] Hàm `compute_delta_grad_last`\n",
        "Định nghĩa hàm `compute_delta_grad_last` trong class `NeuralNetwork` (1đ)\n",
        "  + Without regularization (0.5đ)\n",
        "  + With L2 regularization (0.5đ)"
      ]
    },
    {
      "cell_type": "markdown",
      "metadata": {
        "id": "JJjOZsXWjqz2",
        "colab_type": "text"
      },
      "source": [
        "#### [TODO 7] Hàm `backward`\n",
        "Định nghĩa hàm `backward` trong class `NeuralNetwork` (1đ)"
      ]
    },
    {
      "cell_type": "markdown",
      "metadata": {
        "id": "Xv9USNyilQys",
        "colab_type": "text"
      },
      "source": [
        "#### \\[TODO 8\\] Hàm `update_weight_momentum`\n",
        "Định nghĩa hàm `update_weight_momentum` trong class `NeuralNetwork`. (1đ)"
      ]
    },
    {
      "cell_type": "code",
      "metadata": {
        "id": "IqaUfUyZVK1L",
        "colab_type": "code",
        "colab": {}
      },
      "source": [
        "class NeuralNetwork:\n",
        "    \n",
        "    def __init__(self, learning_rate, num_class=2, reg = 1e-5):\n",
        "        self.layers = []\n",
        "        self.reg = reg\n",
        "        self.num_class = num_class\n",
        "        self.learning_rate = learning_rate\n",
        "        \n",
        "    def add_layer(self, num_neurons, activation):\n",
        "        \"\"\"\n",
        "        Function to add a hidden layer to neural network.\n",
        "        \n",
        "        Parameters\n",
        "        ----------\n",
        "        num_neurons: hyperparameter that specify nuber of neurons new hidden layer has/\n",
        "        activation: string, indicating which activation function to be used\n",
        "        \"\"\"\n",
        "        assert activation in [\"sigmoid\", \"relu\", \"tanh\", \"softmax\"], \"Activation must be in [sigmoid, relu, tanh, softmax]\"\n",
        "        self.layers.append(HiddenLayer(num_neurons, activation, self.reg))\n",
        "\n",
        "    def forward(self, X):\n",
        "        \"\"\"\n",
        "        Do forward propagation in the neural network\n",
        "        \n",
        "        Parameters\n",
        "        ----------\n",
        "        X: raw input X.\n",
        "        \n",
        "        Returns\n",
        "        -------\n",
        "        all_X: list of all X computed at each layer. \n",
        "        \"\"\"\n",
        "        all_X = [X]\n",
        "        #### [TODO 4] START CODE HERE ####\n",
        "        \n",
        "        temp = X\n",
        "        for i in range(0, len(self.layers)):\n",
        "          temp = self.layers[i].forward(temp)\n",
        "          all_X.append(temp)\n",
        "\n",
        "        #### END CODE HERE ####\n",
        "        return all_X\n",
        "    \n",
        "    def compute_loss(self, Y, Y_hat):\n",
        "        \"\"\"\n",
        "        Compute the average cross entropy loss using Y (label) and Y_hat (predicted class)\n",
        "                    and plus with regularization loss.\n",
        "        Parameters\n",
        "        ----------\n",
        "        Y:  the label, the actual class of the samples. This is one-hot encoding vector.\n",
        "                E.g: [0, 1, 2, 1] => [[1, 0, 0],\n",
        "                                      [0, 1, 0],\n",
        "                                      [0, 0, 1],\n",
        "                                      [0, 1, 0]];\n",
        "        Y_hat: the propabilities of classes (output of softmax).\n",
        "        \n",
        "        Returns\n",
        "        -------\n",
        "        \n",
        "        \"\"\"\n",
        "        # estimating cross entropy loss from y_hat and y\n",
        "        #### [TODO 5] START CODE HERE ####\n",
        "        correct_log_probs = np.log(Y_hat) * Y\n",
        "        data_loss = - np.sum(correct_log_probs) / len(Y) # loss without regularization\n",
        "        #### END CODE HERE ####\n",
        "\n",
        "        # estimating regularization loss from all layers\n",
        "        reg_loss = 0.0\n",
        "        #### [TODO 5] START CODE HERE ####\n",
        "        # compute reg_loss\n",
        "        sum = 0\n",
        "        for i in range(0, len(self.layers)):\n",
        "          sumSquareWeight = np.sum(self.layers[i].W**2)\n",
        "          sum += sumSquareWeight\n",
        "        reg_loss = 0.5 * self.reg * sumSquareWeight / len(Y)\n",
        "        #### END CODE HERE ####\n",
        "        data_loss += reg_loss # loss with L2 regularization\n",
        "\n",
        "        return data_loss\n",
        "\n",
        "    def compute_delta_grad_last(self, Y, all_X):\n",
        "        \"\"\"\n",
        "        Special formula to compute delta last and gradient last.\n",
        "        \n",
        "        Parameters\n",
        "        ----------\n",
        "        Y:  the label, the actual class of the samples. This is one-hot encoding vector.\n",
        "                E.g: [0, 1, 2, 1] => [[1, 0, 0],\n",
        "                                      [0, 1, 0],\n",
        "                                      [0, 0, 1],\n",
        "                                      [0, 1, 0]]\n",
        "                                      \n",
        "        all_X: raw input data and activation output from every layer\n",
        "        \"\"\"\n",
        "        n = Y.shape[0]\n",
        "        #### [TODO 6] START CODE HERE ####\n",
        "        \n",
        "        delta_last = (all_X[-1] - Y) / n\n",
        "        grad_last = np.dot(all_X[-2].T, delta_last) + (self.layers[-1].W * self.reg / n)\n",
        "\n",
        "        #### END CODE HERE ####\n",
        "        return delta_last, grad_last\n",
        "\n",
        "    def backward(self, Y, all_X):\n",
        "        \"\"\"\n",
        "        Backpropagation algorithm to compute gradient at each layer.\n",
        "\n",
        "        Parameters\n",
        "        ----------\n",
        "        Y:  the label, the actual class of the samples. This is one-hot encoding vector.\n",
        "                E.g: [0, 1, 2, 1] => [[1, 0, 0],\n",
        "                                      [0, 1, 0],\n",
        "                                      [0, 0, 1],\n",
        "                                      [0, 1, 0]]\n",
        "        all_X: raw input data and activation output from every layer\n",
        "        \n",
        "        Returns\n",
        "        -------\n",
        "        grad_list: list of gradients we've just computed at each layer.\n",
        "        \"\"\"\n",
        "        \n",
        "        # Compute delta_last and grad_last from the output\n",
        "        delta_prev, grad_last = self.compute_delta_grad_last(Y, all_X)\n",
        "        grad_list = [grad_last]\n",
        "\n",
        "        for i in range(len(self.layers) - 1)[::-1]:\n",
        "            prev_layer = self.layers[i+1] # previous layer as backward direction\n",
        "            layer = self.layers[i]\n",
        "            X = all_X[i]\n",
        "            #### [TODO 7] START CODE HERE ####\n",
        "            delta_prev = np.dot(delta_prev, prev_layer.W.T) \n",
        "            grad_W, delta_prev = layer.backward(X, delta_prev)\n",
        "            #### END CODE HERE ####\n",
        "            grad_list.append(grad_W)\n",
        "\n",
        "        grad_list = grad_list[::-1]\n",
        "        return grad_list\n",
        "\n",
        "    def update_weight(self, grad_list):\n",
        "        \"\"\"\n",
        "        Update W by gradient descent using the computed gradient.\n",
        "        \n",
        "        Parameters\n",
        "        ----------\n",
        "        grad_list: (list) list of gradients from all layers that computed from backward function above\n",
        "        learning_rate: (float) learning rate for gradient descent.\n",
        "        \"\"\"\n",
        "        for i, layer in enumerate(self.layers):\n",
        "            grad = grad_list[i]\n",
        "            layer.W = layer.W - self.learning_rate * grad\n",
        "    \n",
        "    def update_weight_momentum(self, grad_list, momentum_rate):\n",
        "        \"\"\"\n",
        "        Update W using gradient descent with momentum\n",
        "\n",
        "        Parameters\n",
        "        ----------\n",
        "        grad_list: (list) list of gradients from all layers that computed from backward function above\n",
        "        learning_rate: (float) learning rate.\n",
        "        momentum_rate: (float) momentum rate.\n",
        "        \"\"\"\n",
        "        if not hasattr(self, \"momentum\"):\n",
        "            self.momentum = [np.zeros_like(grad) for grad in grad_list]\n",
        "            \n",
        "        #### [TODO 8] START CODE HERE ####\n",
        "        \n",
        "        momentum = momentum_rate * self.momentum + self.learning_rate * grad_list\n",
        "        grad_list = grad_list - momentum\n",
        "\n",
        "        #### END CODE HERE ####\n",
        "            \n",
        "    def predict(self, X_test):\n",
        "        Y_hat = self.forward(X_test)[-1]\n",
        "        return np.argmax(Y_hat, axis=1)"
      ],
      "execution_count": 0,
      "outputs": []
    },
    {
      "cell_type": "markdown",
      "metadata": {
        "id": "Gz3F7s_sowbh",
        "colab_type": "text"
      },
      "source": [
        "### Training\n",
        "\n",
        "Sau khi định nghĩa các classes HiddenLayer và NeuralNetwork, chúng ta thực hiện huấn luyện (training) mô hình. Trong bài tập này, 2 kỹ thuật training được giới thiệu:\n",
        "  \n",
        "  + Batch training\n",
        "  + Mini-batch training"
      ]
    },
    {
      "cell_type": "markdown",
      "metadata": {
        "id": "0FfLh29bo1Cd",
        "colab_type": "text"
      },
      "source": [
        "#### Batch train"
      ]
    },
    {
      "cell_type": "markdown",
      "metadata": {
        "id": "A0JxaImbVK1N",
        "colab_type": "text"
      },
      "source": [
        "Định nghĩa hàm `batch_train` để  train trên toàn dữ liệu. Có nghĩa là weights `W` trên mạng neural network sẽ được update trên toàn điểm dữ liệu, thay vì ở mỗi batch điểm dữ liệu như là `mini_batch_train`"
      ]
    },
    {
      "cell_type": "code",
      "metadata": {
        "id": "jFB3Ty-iVK1N",
        "colab_type": "code",
        "colab": {}
      },
      "source": [
        " def batch_train(X_train, Y_train, epochs, neural_network, bat=False):\n",
        "    \"\"\"\n",
        "    Using batch train.\n",
        "    \n",
        "    Parameters\n",
        "    ----------\n",
        "    X_train: training data X.\n",
        "    Y_train: training data Y.\n",
        "    epochs: number of iterations that we should use to train.\n",
        "    neural_network: NeuralNetwork object instance above.\n",
        "    \"\"\"\n",
        "    all_loss = []\n",
        "    display_step = 100 if bat else 10\n",
        "    \n",
        "    for e in range(epochs):\n",
        "        all_X = neural_network.forward(X_train)\n",
        "        loss = neural_network.compute_loss(Y_train, all_X[-1])\n",
        "        grad_list = neural_network.backward(Y_train, all_X)\n",
        "        neural_network.update_weight(grad_list)\n",
        "        \n",
        "        all_loss.append(loss)\n",
        "        \n",
        "        if (e+1) % display_step == 0:\n",
        "            display.clear_output(wait=True)\n",
        "            if bat:\n",
        "                y_hat = neural_network.forward(X_train)[-1]\n",
        "                visualize_point(X_train, np.argmax(Y_train,axis=1), y_hat)\n",
        "            plot_loss(all_loss, title=\"Loss epoch %s: %.4f\" % (e+1, loss), color=2)\n",
        "            plt.show()"
      ],
      "execution_count": 0,
      "outputs": []
    },
    {
      "cell_type": "markdown",
      "metadata": {
        "id": "l3sb-LfCVK1P",
        "colab_type": "text"
      },
      "source": [
        "#### \\[TODO 9\\] Mini-batch train\n",
        "Định nghĩa hàm `mini_batch_train` (2đ)\n",
        "\n",
        "**Pseudocode:**\n",
        "\n",
        "```\n",
        "-> For each epoch do:\n",
        "    -> Shuffle data\n",
        "    -> Set initial loss at that epoch equal to 0\n",
        "    -> Calculate number of batches based on batch size and total number of data points\n",
        "    -> For each batch do:\n",
        "        -> all_X := nn.forward() at that batch, Y_hat is equal all_X[-1]\n",
        "        -> compute loss at that batch\n",
        "        -> initial loss += computed loss at that batch\n",
        "        -> grad_list := nn.backward()\n",
        "        -> update weights.\n",
        "```"
      ]
    },
    {
      "cell_type": "code",
      "metadata": {
        "id": "w_o23rbaVK1P",
        "colab_type": "code",
        "colab": {}
      },
      "source": [
        " def minibatch_train(X_train, Y_train, epochs, batch_size, num_class, neural_network):\n",
        "    \"\"\"\n",
        "    Using batch train.\n",
        "    \n",
        "    Parameters\n",
        "    ----------\n",
        "    X_train: training data X.\n",
        "    Y_train: training data Y.\n",
        "    epochs: number of iterations that we should use to train.\n",
        "    batch_size: number of batch at each update.\n",
        "    neural_network: NeuralNetwork object instance above.\n",
        "    \n",
        "    \"\"\"\n",
        "    #### [TODO 9] START CODE HERE ####\n",
        "    all_loss = []\n",
        "    for e in range (epochs):\n",
        "      index = np.arange(len(X_train))\n",
        "      np.random.shuffle(index)\n",
        "      X_train = X_train[index]\n",
        "      Y_train = Y_train[index]\n",
        "      loss = 0\n",
        "      numBatches = len(Y_train) // batch_size\n",
        "      for i in range(0, numBatches):\n",
        "        X_train_mini = X_train[batch_size * i : batch_size * (i+1)]\n",
        "        Y_train_mini = Y_train[batch_size * i : batch_size * (i+1)]\n",
        "        all_X = neural_network.forward(X_train_mini)\n",
        "        loss += neural_network.compute_loss(Y_train_mini, all_X[-1])\n",
        "        grad_list = neural_network.backward(Y_train_mini, all_X)\n",
        "        neural_network.update_weight(grad_list)\n",
        "        display.clear_output(wait=True)\n",
        "      all_loss.append(loss)\n",
        "      plot_loss(all_loss, title=\"Loss epoch %s: %.4f\" % (e+1, loss), color=2)\n",
        "      plt.show()\n",
        "\n",
        "    #### END CODE HERE ####"
      ],
      "execution_count": 0,
      "outputs": []
    },
    {
      "cell_type": "markdown",
      "metadata": {
        "id": "b0DirH620RYD",
        "colab_type": "text"
      },
      "source": [
        "### Bat Classification"
      ]
    },
    {
      "cell_type": "markdown",
      "metadata": {
        "id": "bpnU_FBy1IId",
        "colab_type": "text"
      },
      "source": [
        "#### Hyperparameters"
      ]
    },
    {
      "cell_type": "code",
      "metadata": {
        "id": "X22sH6ug1LqZ",
        "colab_type": "code",
        "colab": {}
      },
      "source": [
        "# Thay đổi giá trị của các hyperparameter bên dưới và\n",
        "# quan sát sự thay đổi của loss và quá trình training \n",
        "EPOCHS = 1000\n",
        "LEARNING_RATE = 0.01\n",
        "REG= 1e-5\n",
        "BATCH_SIZE = 64"
      ],
      "execution_count": 0,
      "outputs": []
    },
    {
      "cell_type": "markdown",
      "metadata": {
        "id": "mUGCZeKq2M-I",
        "colab_type": "text"
      },
      "source": [
        "#### Định nghĩa hàm `bat_classification`"
      ]
    },
    {
      "cell_type": "code",
      "metadata": {
        "id": "7R_OW98uVK1R",
        "colab_type": "code",
        "colab": {}
      },
      "source": [
        "def bat_classification(use_batch_train=True):\n",
        "    # Load data from file\n",
        "    # Make sure that bat.dat is in data/\n",
        "    train_X, train_Y, test_X, test_Y = get_bat_data()\n",
        "    train_X, _, test_X = normalize(train_X, train_X, test_X)    \n",
        "\n",
        "    test_Y  = test_Y.flatten()\n",
        "    train_Y = train_Y.flatten()\n",
        "    num_class = (np.unique(train_Y)).shape[0]\n",
        "\n",
        "    # Pad 1 as the third feature of train_x and test_x\n",
        "    train_X = add_one(train_X) \n",
        "    test_X = add_one(test_X)\n",
        "\n",
        "    train_Y = create_one_hot(train_Y, num_class)\n",
        "\n",
        "    # Create NN classifier\n",
        "    # Bạn có thể biến đổi thêm/bớt hidden layer, thay đổi hàm activation cho mỗi layer\n",
        "    # và quan sát sự khác biệt trong quá trình train.\n",
        "    net = NeuralNetwork(learning_rate=LEARNING_RATE, num_class=num_class, reg=REG)\n",
        "    net.add_layer(100, 'relu')\n",
        "    net.add_layer(100, 'relu')\n",
        "    net.add_layer(100, 'relu')\n",
        "    net.add_layer(num_class, 'softmax')\n",
        "\n",
        "    if use_batch_train:\n",
        "        #Batch training - train all dataset\n",
        "        batch_train(train_X, train_Y, EPOCHS, net)\n",
        "    else:\n",
        "        #Minibatch training - training dataset using Minibatch approach\n",
        "        minibatch_train(train_X, train_Y, EPOCHS, BATCH_SIZE, num_class, net)\n",
        "    metrics = confusion_matrix(test_Y, net.predict(test_X))\n",
        "    print(\"Confusion metrix: \")\n",
        "    print(metrics)\n",
        "    \n",
        "    print(\"Accuracy: \")\n",
        "    print(metrics.trace()/test_Y.shape[0])"
      ],
      "execution_count": 0,
      "outputs": []
    },
    {
      "cell_type": "markdown",
      "metadata": {
        "id": "muLdYJbV2dlM",
        "colab_type": "text"
      },
      "source": [
        "#### Training"
      ]
    },
    {
      "cell_type": "code",
      "metadata": {
        "scrolled": true,
        "id": "4xn572XVVK1V",
        "colab_type": "code",
        "outputId": "57f5caa1-7d65-4019-adcb-ad5ee88af62b",
        "colab": {
          "base_uri": "https://localhost:8080/",
          "height": 385
        }
      },
      "source": [
        "bat_classification(use_batch_train=False)"
      ],
      "execution_count": 38,
      "outputs": [
        {
          "output_type": "display_data",
          "data": {
            "image/png": "[encoded data removed]",
            "text/plain": [
              "<Figure size 432x288 with 1 Axes>"
            ]
          },
          "metadata": {
            "tags": []
          }
        },
        {
          "output_type": "stream",
          "text": [
            "Confusion metrix: \n",
            "[[1455   32    0]\n",
            " [  49 1022   37]\n",
            " [   0   34  371]]\n",
            "Accuracy: \n",
            "0.9493333333333334\n"
          ],
          "name": "stdout"
        }
      ]
    },
    {
      "cell_type": "markdown",
      "metadata": {
        "id": "dHRIZzum4Q7v",
        "colab_type": "text"
      },
      "source": [
        "### MNIST Classification"
      ]
    },
    {
      "cell_type": "markdown",
      "metadata": {
        "id": "TAv5PeHq4YRQ",
        "colab_type": "text"
      },
      "source": [
        "#### Hyperparameters"
      ]
    },
    {
      "cell_type": "code",
      "metadata": {
        "id": "89OE4gdG4bwy",
        "colab_type": "code",
        "colab": {}
      },
      "source": [
        "# Thay đổi giá trị của các hyperparameter bên dưới và\n",
        "# quan sát sự thay đổi của loss và quá trình training\n",
        "EPOCHS = 100\n",
        "LEARNING_RATE = 0.01\n",
        "REG= 1e-5\n",
        "BATCH_SIZE = 64"
      ],
      "execution_count": 0,
      "outputs": []
    },
    {
      "cell_type": "markdown",
      "metadata": {
        "id": "iFDjFonm5buD",
        "colab_type": "text"
      },
      "source": [
        "#### Định nghĩa hàm `mnist_classification`"
      ]
    },
    {
      "cell_type": "code",
      "metadata": {
        "id": "_EDiru6zVK1S",
        "colab_type": "code",
        "colab": {}
      },
      "source": [
        "def mnist_classification(use_batch_train=True):\n",
        "    # Load data from file\n",
        "    # Make sure that fashion-mnist/*.gz is in data/\n",
        "    train_X, train_Y, val_X, val_Y, test_X, test_Y = get_mnist_data(1)\n",
        "    train_X, val_X, test_X = normalize(train_X, val_X, test_X)    \n",
        "    \n",
        "    num_class = (np.unique(train_Y)).shape[0]\n",
        "\n",
        "    # Pad 1 as the third feature of train_x and test_x\n",
        "    train_X = add_one(train_X)\n",
        "    val_X = add_one(val_X)\n",
        "    test_X = add_one(test_X)\n",
        "    \n",
        "    train_Y = create_one_hot(train_Y, num_class)\n",
        "    val_Y = create_one_hot(val_Y, num_class)\n",
        "\n",
        "    # Create NN classifier\n",
        "    net = NeuralNetwork(learning_rate=LEARNING_RATE, num_class=num_class, reg=REG)\n",
        "    net.add_layer(128, 'relu')\n",
        "    net.add_layer(256, 'relu')\n",
        "    net.add_layer(100, 'relu')\n",
        "    net.add_layer(64, 'relu')\n",
        "    net.add_layer(num_class, 'softmax')\n",
        "    \n",
        "    if use_batch_train:\n",
        "        #Batch training - train all dataset\n",
        "        batch_train(train_X, train_Y, EPOCHS, net)\n",
        "    else:\n",
        "        #Minibatch training - training dataset using Minibatch approach\n",
        "        minibatch_train(train_X, train_Y, EPOCHS, BATCH_SIZE, num_class, net)\n",
        "    metrics = confusion_matrix(test_Y, net.predict(test_X))\n",
        "    print(\"Confusion metrix: \")\n",
        "    print(metrics)\n",
        "\n",
        "    print(\"Accuracy: \")\n",
        "    print(metrics.trace()/test_Y.shape[0])"
      ],
      "execution_count": 0,
      "outputs": []
    },
    {
      "cell_type": "code",
      "metadata": {
        "scrolled": false,
        "id": "M9dLdHlaVK1X",
        "colab_type": "code",
        "colab": {
          "base_uri": "https://localhost:8080/",
          "height": 505
        },
        "outputId": "b1f4ae66-8ea4-4989-ae9d-26302af1e2e1"
      },
      "source": [
        "mnist_classification(use_batch_train=False)"
      ],
      "execution_count": 47,
      "outputs": [
        {
          "output_type": "display_data",
          "data": {
            "image/png": "[encoded data removed]",
            "text/plain": [
              "<Figure size 432x288 with 1 Axes>"
            ]
          },
          "metadata": {
            "tags": []
          }
        },
        {
          "output_type": "stream",
          "text": [
            "Confusion metrix: \n",
            "[[836   1  27  18   3   2 107   0   6   0]\n",
            " [  5 968   1  14   7   0   4   0   1   0]\n",
            " [ 25   1 843   8  62   1  56   0   4   0]\n",
            " [ 35   5  32 864  38   0  23   0   3   0]\n",
            " [  2   1 121  27 784   1  63   0   1   0]\n",
            " [  1   0   1   1   0 961   0  19   2  15]\n",
            " [121   1  90  20  75   1 687   0   5   0]\n",
            " [  0   0   0   0   0  23   0 947   0  30]\n",
            " [ 10   0   8   7   3   4  15   7 945   1]\n",
            " [  1   0   0   0   0  16   0  33   0 950]]\n",
            "Accuracy: \n",
            "0.8785\n"
          ],
          "name": "stdout"
        }
      ]
    },
    {
      "cell_type": "markdown",
      "metadata": {
        "id": "Pd7zbo_zVK1Y",
        "colab_type": "text"
      },
      "source": [
        "## II. Thực hiện Deep Neural Network với Tensorflow\n",
        "\n",
        "Phân loại tập dữ liệu Bat và MNIST với tensorflow."
      ]
    },
    {
      "cell_type": "markdown",
      "metadata": {
        "id": "m51lTqD6rW73",
        "colab_type": "text"
      },
      "source": [
        "### Import các thư viện cần thiết"
      ]
    },
    {
      "cell_type": "code",
      "metadata": {
        "id": "ozo-4la8VK1Z",
        "colab_type": "code",
        "colab": {}
      },
      "source": [
        "import tensorflow as tf\n",
        "tf.enable_eager_execution()"
      ],
      "execution_count": 0,
      "outputs": []
    },
    {
      "cell_type": "code",
      "metadata": {
        "id": "7N8tbrbxVK1b",
        "colab_type": "code",
        "colab": {}
      },
      "source": [
        "tf.keras.backend.clear_session()"
      ],
      "execution_count": 0,
      "outputs": []
    },
    {
      "cell_type": "markdown",
      "metadata": {
        "id": "ljzbayIbrmGw",
        "colab_type": "text"
      },
      "source": [
        "### Cài đặt class `DNNModel`\n",
        "\n",
        "Trong phần này bạn có các TODO sau:"
      ]
    },
    {
      "cell_type": "markdown",
      "metadata": {
        "id": "YJNmEejir4pM",
        "colab_type": "text"
      },
      "source": [
        "#### \\[TODO 10] Cài đặt kiến trúc mô hình\n",
        "\n",
        "Yêu cầu: xây dựng kiến trúc mạng với `tf.keras.Sequential()` để chồng các hidden layers và output layer với nhau. (1đ)"
      ]
    },
    {
      "cell_type": "markdown",
      "metadata": {
        "id": "fmKqmC97tttR",
        "colab_type": "text"
      },
      "source": [
        "#### [TODO 11] Cài đặt hàm tính accuracy\n",
        "\n",
        "Cài đặt hàm tính accuracy. (1đ)"
      ]
    },
    {
      "cell_type": "markdown",
      "metadata": {
        "id": "aDJZnuTEvgzH",
        "colab_type": "text"
      },
      "source": [
        "#### \\[TODO 12\\] Cài đặt hàm train\n",
        "Cài đặt các bước để train mô hình trong class `DNNModel`. (2đ)"
      ]
    },
    {
      "cell_type": "code",
      "metadata": {
        "id": "gO7GgBTzVK1c",
        "colab_type": "code",
        "colab": {}
      },
      "source": [
        "class DNNModel:\n",
        "    def __init__(self, hidden_layers, num_classes, activation, epochs, optimizer):\n",
        "        self.hidden_layers = hidden_layers\n",
        "        self.num_classes = num_classes\n",
        "        self.activation = activation\n",
        "        self.epochs = epochs\n",
        "        self.optimizer = optimizer\n",
        "        \n",
        "        #Hidden layers and output layers are stacked to form a model\n",
        "        self.model = tf.keras.Sequential()\n",
        "        #### [TODO 10] START CODE HERE ####\n",
        "        #Add hidden layers\n",
        "        for i in range (0, len(hidden_layers)):\n",
        "          self.model.add(tf.keras.layers.Dense(hidden_layers[i], activation = self.activation))\n",
        "        #Add output layer\n",
        "        self.model.add(tf.keras.layers.Dense(self.num_classes, activation='softmax'))\n",
        "        self.model.compile(optimizer = self.optimizer, loss='categorical_crossentropy', metrics=['accuracy'])\n",
        "        #### END CODE HERE ####\n",
        "\n",
        "    def loss(self, y_hat, y):\n",
        "        \"\"\"\n",
        "        Compute loss function.\n",
        "        \n",
        "        Parameters\n",
        "        ----------\n",
        "        y_hat: output of the last layer (softmax layer).\n",
        "        y: labels/targets in our data.\n",
        "        \n",
        "        Returns\n",
        "        -------\n",
        "        Loss w.r.t y_hat and y. Should be a scalar.\n",
        "        \"\"\"\n",
        "        return tf.reduce_mean(-tf.reduce_sum(y*tf.log(y_hat), axis=1), axis=0)\n",
        "\n",
        "    def accuracy(self, y_hat, y):\n",
        "        \"\"\"\n",
        "        Compute accuracy score.\n",
        "        \n",
        "        Parameters\n",
        "        ----------\n",
        "        y_hat: output of the last layer (softmax layer).\n",
        "        y: labels/targets in our data.\n",
        "        \n",
        "        Returns\n",
        "        -------\n",
        "        Accuracy w.r.t y_hat and y. Should be a scalar.\n",
        "        \n",
        "        \"\"\"\n",
        "        #### [TODO 11] START CODE HERE ####\n",
        "\n",
        "        acc, acc_op = tf.metrics.accuracy(labels=tf.argmax(y, 1), predictions=tf.argmax(y_hat,1))\n",
        "\n",
        "        #### END CODE HERE ####\n",
        "        return acc\n",
        "\n",
        "    def train(self, x_train, y_train):\n",
        "        all_loss = []\n",
        "        all_acc = []\n",
        "        for e in range(self.epochs):\n",
        "            #### [TODO 12] START CODE HERE ####\n",
        "            \n",
        "            self.model.fit(x_train, y_train)\n",
        "            loss, accuracy = self.model.evaluate(x_train, y_train)\n",
        "            all_loss.append(loss)\n",
        "            all_acc.append(accuracy)\n",
        "\n",
        "            #### END CODE HERE ####\n",
        "            \n",
        "            print(f\"\\rEpoch: {e}... Training loss: {loss}... Accuracy: {accuracy}\")\n",
        "\n",
        "    def predict(self, inputs):\n",
        "        Y_hat = self.model(inputs)\n",
        "        return tf.argmax(Y_hat, axis=1)"
      ],
      "execution_count": 0,
      "outputs": []
    },
    {
      "cell_type": "code",
      "metadata": {
        "id": "LxLF7xEqqBsp",
        "colab_type": "code",
        "colab": {}
      },
      "source": [
        ""
      ],
      "execution_count": 0,
      "outputs": []
    },
    {
      "cell_type": "markdown",
      "metadata": {
        "id": "1H7YE6M4uccG",
        "colab_type": "text"
      },
      "source": [
        "### Bat classification"
      ]
    },
    {
      "cell_type": "code",
      "metadata": {
        "id": "ZOEopv9gVK1f",
        "colab_type": "code",
        "colab": {}
      },
      "source": [
        "def tf_bat_classification():\n",
        "     # Load data from file\n",
        "    # Make sure that bat.dat is in data/\n",
        "    train_X, train_Y, test_X, test_Y = get_bat_data()\n",
        "    train_X, _, test_X = normalize(train_X, train_X, test_X)    \n",
        "\n",
        "    test_Y  = test_Y.flatten()\n",
        "    train_Y = train_Y.flatten()\n",
        "    num_class = (np.unique(train_Y)).shape[0]\n",
        "\n",
        "    # Pad 1 as the third feature of train_x and test_x\n",
        "    train_X = add_one(train_X) \n",
        "    test_X = add_one(test_X)\n",
        "    \n",
        "    train_Y = create_one_hot(train_Y, num_class)\n",
        "    \n",
        "    # DNN parameters\n",
        "    hidden_layers = [100, 100, 100]\n",
        "    learning_rate = 0.0001\n",
        "    epochs = 200\n",
        "    activation = tf.nn.relu\n",
        "    optimizer = tf.train.AdamOptimizer(learning_rate=learning_rate)\n",
        "\n",
        "    #Initialize model\n",
        "    dnn = DNNModel(hidden_layers=hidden_layers, num_classes=num_class,\n",
        "                   activation=activation, epochs=epochs, optimizer=optimizer)\n",
        "    #Train\n",
        "    dnn.train(train_X, train_Y)\n",
        "\n",
        "    # TEST\n",
        "    # Confusion matrix\n",
        "    metrics = confusion_matrix(test_Y, dnn.predict(test_X))\n",
        "    print('Confusion matrix:')\n",
        "    print(metrics)\n",
        "    \n",
        "    print(\"Accuracy: \")\n",
        "    print(metrics.trace()/test_Y.shape[0])"
      ],
      "execution_count": 0,
      "outputs": []
    },
    {
      "cell_type": "code",
      "metadata": {
        "id": "SLs06JB9VK1i",
        "colab_type": "code",
        "colab": {
          "base_uri": "https://localhost:8080/",
          "height": 1000
        },
        "outputId": "1102afc5-f41c-4d07-f12f-1a794c5196f5"
      },
      "source": [
        "tf_bat_classification()"
      ],
      "execution_count": 92,
      "outputs": [
        {
          "output_type": "stream",
          "text": [
            "Reading bat data...\n",
            "EOF Reached\n",
            "Done reading\n",
            "12000/12000 [==============================] - 1s 97us/sample - loss: 0.9852 - acc: 0.4769\n",
            "Epoch: 0... Training loss: 0.9852440528869629... Accuracy: 0.47691667079925537\n",
            "12000/12000 [==============================] - 1s 91us/sample - loss: 0.9426 - acc: 0.5271\n",
            "Epoch: 1... Training loss: 0.9426181972821553... Accuracy: 0.5270833373069763\n",
            "12000/12000 [==============================] - 1s 92us/sample - loss: 0.8706 - acc: 0.6574\n",
            "Epoch: 2... Training loss: 0.8706424172719319... Accuracy: 0.6574166417121887\n",
            "12000/12000 [==============================] - 1s 94us/sample - loss: 0.7624 - acc: 0.7122\n",
            "Epoch: 3... Training loss: 0.7624415764808655... Accuracy: 0.7122499942779541\n",
            "12000/12000 [==============================] - 1s 90us/sample - loss: 0.6582 - acc: 0.7383\n",
            "Epoch: 4... Training loss: 0.6582353851795196... Accuracy: 0.7383333444595337\n",
            "12000/12000 [==============================] - 1s 93us/sample - loss: 0.5851 - acc: 0.7570\n",
            "Epoch: 5... Training loss: 0.5851189985275268... Accuracy: 0.7570000290870667\n",
            "12000/12000 [==============================] - 1s 92us/sample - loss: 0.5353 - acc: 0.7711\n",
            "Epoch: 6... Training loss: 0.5353010121186574... Accuracy: 0.7710833549499512\n",
            "12000/12000 [==============================] - 1s 93us/sample - loss: 0.4997 - acc: 0.7837\n",
            "Epoch: 7... Training loss: 0.499700451930364... Accuracy: 0.7836666703224182\n",
            "12000/12000 [==============================] - 1s 94us/sample - loss: 0.4717 - acc: 0.7904\n",
            "Epoch: 8... Training loss: 0.471708012898763... Accuracy: 0.7904166579246521\n",
            "12000/12000 [==============================] - 1s 89us/sample - loss: 0.4497 - acc: 0.7976\n",
            "Epoch: 9... Training loss: 0.44972819805145264... Accuracy: 0.7975833415985107\n",
            "12000/12000 [==============================] - 1s 91us/sample - loss: 0.4327 - acc: 0.8106\n",
            "Epoch: 10... Training loss: 0.43268030786514283... Accuracy: 0.8105833530426025\n",
            "12000/12000 [==============================] - 1s 91us/sample - loss: 0.4174 - acc: 0.8177\n",
            "Epoch: 11... Training loss: 0.41739663497606916... Accuracy: 0.8177499771118164\n",
            "12000/12000 [==============================] - 1s 90us/sample - loss: 0.4046 - acc: 0.8282\n",
            "Epoch: 12... Training loss: 0.40459870302677153... Accuracy: 0.828249990940094\n",
            "12000/12000 [==============================] - 1s 90us/sample - loss: 0.3923 - acc: 0.8367\n",
            "Epoch: 13... Training loss: 0.392329714179039... Accuracy: 0.8366666436195374\n",
            "12000/12000 [==============================] - 1s 93us/sample - loss: 0.3833 - acc: 0.8426\n",
            "Epoch: 14... Training loss: 0.3832886435588201... Accuracy: 0.8425833582878113\n",
            "12000/12000 [==============================] - 1s 90us/sample - loss: 0.3749 - acc: 0.8453\n",
            "Epoch: 15... Training loss: 0.37491696238517763... Accuracy: 0.8452500104904175\n",
            "12000/12000 [==============================] - 1s 92us/sample - loss: 0.3658 - acc: 0.8521\n",
            "Epoch: 16... Training loss: 0.365822120030721... Accuracy: 0.8520833253860474\n",
            "12000/12000 [==============================] - 1s 91us/sample - loss: 0.3568 - acc: 0.8571\n",
            "Epoch: 17... Training loss: 0.35682312373320263... Accuracy: 0.8570833206176758\n",
            "12000/12000 [==============================] - 1s 91us/sample - loss: 0.3500 - acc: 0.8627\n",
            "Epoch: 18... Training loss: 0.3500440997680028... Accuracy: 0.862666666507721\n",
            "12000/12000 [==============================] - 1s 92us/sample - loss: 0.3450 - acc: 0.8615\n",
            "Epoch: 19... Training loss: 0.3450393702983856... Accuracy: 0.8615000247955322\n",
            "12000/12000 [==============================] - 1s 91us/sample - loss: 0.3386 - acc: 0.8653\n",
            "Epoch: 20... Training loss: 0.3386072264115016... Accuracy: 0.8653333187103271\n",
            "12000/12000 [==============================] - 1s 91us/sample - loss: 0.3323 - acc: 0.8692\n",
            "Epoch: 21... Training loss: 0.3323015511433283... Accuracy: 0.8692499995231628\n",
            "12000/12000 [==============================] - 1s 92us/sample - loss: 0.3270 - acc: 0.8692\n",
            "Epoch: 22... Training loss: 0.32700520984331766... Accuracy: 0.8691666722297668\n",
            "12000/12000 [==============================] - 1s 92us/sample - loss: 0.3225 - acc: 0.8717\n",
            "Epoch: 23... Training loss: 0.32253290084997815... Accuracy: 0.871749997138977\n",
            "12000/12000 [==============================] - 1s 91us/sample - loss: 0.3177 - acc: 0.8724\n",
            "Epoch: 24... Training loss: 0.3177379707098007... Accuracy: 0.8724166750907898\n",
            "12000/12000 [==============================] - 1s 93us/sample - loss: 0.3135 - acc: 0.8733\n",
            "Epoch: 25... Training loss: 0.3135205637812614... Accuracy: 0.8732500076293945\n",
            "12000/12000 [==============================] - 1s 91us/sample - loss: 0.3094 - acc: 0.8753\n",
            "Epoch: 26... Training loss: 0.30944942526022595... Accuracy: 0.875333309173584\n",
            "12000/12000 [==============================] - 1s 91us/sample - loss: 0.3065 - acc: 0.8780\n",
            "Epoch: 27... Training loss: 0.30646493566036226... Accuracy: 0.878000020980835\n",
            "12000/12000 [==============================] - 1s 88us/sample - loss: 0.3027 - acc: 0.8798\n",
            "Epoch: 28... Training loss: 0.3026669045090675... Accuracy: 0.8798333406448364\n",
            "12000/12000 [==============================] - 1s 93us/sample - loss: 0.2996 - acc: 0.8803\n",
            "Epoch: 29... Training loss: 0.2995781525770823... Accuracy: 0.8803333044052124\n",
            "12000/12000 [==============================] - 1s 90us/sample - loss: 0.2953 - acc: 0.8832\n",
            "Epoch: 30... Training loss: 0.295323956489563... Accuracy: 0.8832499980926514\n",
            "12000/12000 [==============================] - 1s 91us/sample - loss: 0.2924 - acc: 0.8837\n",
            "Epoch: 31... Training loss: 0.29239338157574335... Accuracy: 0.8836666941642761\n",
            "12000/12000 [==============================] - 1s 91us/sample - loss: 0.2900 - acc: 0.8823\n",
            "Epoch: 32... Training loss: 0.2899697410464287... Accuracy: 0.8822500109672546\n",
            "12000/12000 [==============================] - 1s 89us/sample - loss: 0.2861 - acc: 0.8853\n",
            "Epoch: 33... Training loss: 0.2861291993459066... Accuracy: 0.8853333592414856\n",
            "12000/12000 [==============================] - 1s 92us/sample - loss: 0.2843 - acc: 0.8846\n",
            "Epoch: 34... Training loss: 0.28426917020479836... Accuracy: 0.8845833539962769\n",
            "12000/12000 [==============================] - 1s 91us/sample - loss: 0.2820 - acc: 0.8862\n",
            "Epoch: 35... Training loss: 0.2820426514943441... Accuracy: 0.8861666917800903\n",
            "12000/12000 [==============================] - 1s 90us/sample - loss: 0.2788 - acc: 0.8852\n",
            "Epoch: 36... Training loss: 0.278768582602342... Accuracy: 0.8852499723434448\n",
            "12000/12000 [==============================] - 1s 93us/sample - loss: 0.2774 - acc: 0.8873\n",
            "Epoch: 37... Training loss: 0.2773901118636131... Accuracy: 0.887333333492279\n",
            "12000/12000 [==============================] - 1s 91us/sample - loss: 0.2751 - acc: 0.8865\n",
            "Epoch: 38... Training loss: 0.27510636115074155... Accuracy: 0.8865000009536743\n",
            "12000/12000 [==============================] - 1s 90us/sample - loss: 0.2720 - acc: 0.8875\n",
            "Epoch: 39... Training loss: 0.2720311072866122... Accuracy: 0.887499988079071\n",
            "12000/12000 [==============================] - 1s 90us/sample - loss: 0.2695 - acc: 0.8889\n",
            "Epoch: 40... Training loss: 0.2695269951224327... Accuracy: 0.8889166712760925\n",
            "12000/12000 [==============================] - 1s 89us/sample - loss: 0.2665 - acc: 0.8898\n",
            "Epoch: 41... Training loss: 0.26649252663056056... Accuracy: 0.8897500038146973\n",
            "12000/12000 [==============================] - 1s 91us/sample - loss: 0.2657 - acc: 0.8903\n",
            "Epoch: 42... Training loss: 0.26570754607518515... Accuracy: 0.890250027179718\n",
            "12000/12000 [==============================] - 1s 94us/sample - loss: 0.2624 - acc: 0.8944\n",
            "Epoch: 43... Training loss: 0.26237440973520276... Accuracy: 0.8944166898727417\n",
            "12000/12000 [==============================] - 1s 93us/sample - loss: 0.2609 - acc: 0.8933\n",
            "Epoch: 44... Training loss: 0.2609320812225342... Accuracy: 0.8933333158493042\n",
            "12000/12000 [==============================] - 1s 101us/sample - loss: 0.2583 - acc: 0.8922\n",
            "Epoch: 45... Training loss: 0.2582619740366936... Accuracy: 0.8921666741371155\n",
            "12000/12000 [==============================] - 1s 101us/sample - loss: 0.2558 - acc: 0.8942\n",
            "Epoch: 46... Training loss: 0.25584191568692527... Accuracy: 0.8941666483879089\n",
            "12000/12000 [==============================] - 1s 95us/sample - loss: 0.2554 - acc: 0.8928\n",
            "Epoch: 47... Training loss: 0.25544345859686535... Accuracy: 0.8928333520889282\n",
            "12000/12000 [==============================] - 1s 100us/sample - loss: 0.2533 - acc: 0.8951\n",
            "Epoch: 48... Training loss: 0.25327259703477223... Accuracy: 0.8950833082199097\n",
            "12000/12000 [==============================] - 1s 96us/sample - loss: 0.2517 - acc: 0.8949\n",
            "Epoch: 49... Training loss: 0.25167434114217757... Accuracy: 0.8949166536331177\n",
            "12000/12000 [==============================] - 1s 91us/sample - loss: 0.2492 - acc: 0.8963\n",
            "Epoch: 50... Training loss: 0.2492214817404747... Accuracy: 0.8963333368301392\n",
            "12000/12000 [==============================] - 1s 93us/sample - loss: 0.2487 - acc: 0.8972\n",
            "Epoch: 51... Training loss: 0.248669151922067... Accuracy: 0.8972499966621399\n",
            "12000/12000 [==============================] - 1s 91us/sample - loss: 0.2469 - acc: 0.8960\n",
            "Epoch: 52... Training loss: 0.24685675901174545... Accuracy: 0.8960000276565552\n",
            "12000/12000 [==============================] - 1s 93us/sample - loss: 0.2453 - acc: 0.8990\n",
            "Epoch: 53... Training loss: 0.24533744305372238... Accuracy: 0.8989999890327454\n",
            "12000/12000 [==============================] - 1s 89us/sample - loss: 0.2433 - acc: 0.8966\n",
            "Epoch: 54... Training loss: 0.24332505480448405... Accuracy: 0.8965833187103271\n",
            "12000/12000 [==============================] - 1s 93us/sample - loss: 0.2424 - acc: 0.8997\n",
            "Epoch: 55... Training loss: 0.24237253560622532... Accuracy: 0.8996666669845581\n",
            "12000/12000 [==============================] - 1s 91us/sample - loss: 0.2402 - acc: 0.8997\n",
            "Epoch: 56... Training loss: 0.24018729893366494... Accuracy: 0.8997499942779541\n",
            "12000/12000 [==============================] - 1s 90us/sample - loss: 0.2390 - acc: 0.9000\n",
            "Epoch: 57... Training loss: 0.23896724577744802... Accuracy: 0.8999999761581421\n",
            "12000/12000 [==============================] - 1s 89us/sample - loss: 0.2377 - acc: 0.9007\n",
            "Epoch: 58... Training loss: 0.2377083821296692... Accuracy: 0.9006666541099548\n",
            "12000/12000 [==============================] - 1s 89us/sample - loss: 0.2367 - acc: 0.9018\n",
            "Epoch: 59... Training loss: 0.23672386821111044... Accuracy: 0.9017500281333923\n",
            "12000/12000 [==============================] - 1s 89us/sample - loss: 0.2348 - acc: 0.9028\n",
            "Epoch: 60... Training loss: 0.23475082510709763... Accuracy: 0.9028333425521851\n",
            "12000/12000 [==============================] - 1s 90us/sample - loss: 0.2330 - acc: 0.9015\n",
            "Epoch: 61... Training loss: 0.2329757579167684... Accuracy: 0.9014999866485596\n",
            "12000/12000 [==============================] - 1s 90us/sample - loss: 0.2329 - acc: 0.9019\n",
            "Epoch: 62... Training loss: 0.23294144479433695... Accuracy: 0.9019166827201843\n",
            "12000/12000 [==============================] - 1s 89us/sample - loss: 0.2296 - acc: 0.9057\n",
            "Epoch: 63... Training loss: 0.2296168119907379... Accuracy: 0.9056666493415833\n",
            "12000/12000 [==============================] - 1s 91us/sample - loss: 0.2293 - acc: 0.9048\n",
            "Epoch: 64... Training loss: 0.22928479717175165... Accuracy: 0.9048333168029785\n",
            "12000/12000 [==============================] - 1s 94us/sample - loss: 0.2279 - acc: 0.9035\n",
            "Epoch: 65... Training loss: 0.22788198391596476... Accuracy: 0.9035000205039978\n",
            "12000/12000 [==============================] - 1s 89us/sample - loss: 0.2282 - acc: 0.9056\n",
            "Epoch: 66... Training loss: 0.22821708842118582... Accuracy: 0.9055833220481873\n",
            "12000/12000 [==============================] - 1s 89us/sample - loss: 0.2250 - acc: 0.9066\n",
            "Epoch: 67... Training loss: 0.2250331406792005... Accuracy: 0.906583309173584\n",
            "12000/12000 [==============================] - 1s 88us/sample - loss: 0.2246 - acc: 0.9069\n",
            "Epoch: 68... Training loss: 0.2246013382077217... Accuracy: 0.9069166779518127\n",
            "12000/12000 [==============================] - 1s 91us/sample - loss: 0.2241 - acc: 0.9054\n",
            "Epoch: 69... Training loss: 0.2240530060728391... Accuracy: 0.9054166674613953\n",
            "12000/12000 [==============================] - 1s 91us/sample - loss: 0.2208 - acc: 0.9078\n",
            "Epoch: 70... Training loss: 0.2208121236562729... Accuracy: 0.9077500104904175\n",
            "12000/12000 [==============================] - 1s 90us/sample - loss: 0.2224 - acc: 0.9066\n",
            "Epoch: 71... Training loss: 0.22244614923000336... Accuracy: 0.906583309173584\n",
            "12000/12000 [==============================] - 1s 89us/sample - loss: 0.2190 - acc: 0.9085\n",
            "Epoch: 72... Training loss: 0.21895561917622883... Accuracy: 0.9085000157356262\n",
            "12000/12000 [==============================] - 1s 92us/sample - loss: 0.2186 - acc: 0.9079\n",
            "Epoch: 73... Training loss: 0.21860466637214024... Accuracy: 0.9079166650772095\n",
            "12000/12000 [==============================] - 1s 89us/sample - loss: 0.2169 - acc: 0.9093\n",
            "Epoch: 74... Training loss: 0.21687190624078115... Accuracy: 0.909250020980835\n",
            "12000/12000 [==============================] - 1s 94us/sample - loss: 0.2160 - acc: 0.9106\n",
            "Epoch: 75... Training loss: 0.21600751052300135... Accuracy: 0.9105833172798157\n",
            "12000/12000 [==============================] - 1s 91us/sample - loss: 0.2148 - acc: 0.9084\n",
            "Epoch: 76... Training loss: 0.2148372834920883... Accuracy: 0.9084166884422302\n",
            "12000/12000 [==============================] - 1s 92us/sample - loss: 0.2149 - acc: 0.9093\n",
            "Epoch: 77... Training loss: 0.21493209952116013... Accuracy: 0.909333348274231\n",
            "12000/12000 [==============================] - 1s 94us/sample - loss: 0.2137 - acc: 0.9089\n",
            "Epoch: 78... Training loss: 0.2137379553715388... Accuracy: 0.9089166522026062\n",
            "12000/12000 [==============================] - 1s 89us/sample - loss: 0.2107 - acc: 0.9126\n",
            "Epoch: 79... Training loss: 0.2107106753985087... Accuracy: 0.9125833511352539\n",
            "12000/12000 [==============================] - 1s 91us/sample - loss: 0.2120 - acc: 0.9112\n",
            "Epoch: 80... Training loss: 0.21202883380651474... Accuracy: 0.9112499952316284\n",
            "12000/12000 [==============================] - 1s 92us/sample - loss: 0.2098 - acc: 0.9103\n",
            "Epoch: 81... Training loss: 0.20979522848129273... Accuracy: 0.9102500081062317\n",
            "12000/12000 [==============================] - 1s 91us/sample - loss: 0.2074 - acc: 0.9142\n",
            "Epoch: 82... Training loss: 0.20739016569654148... Accuracy: 0.9141666889190674\n",
            "12000/12000 [==============================] - 1s 91us/sample - loss: 0.2069 - acc: 0.9127\n",
            "Epoch: 83... Training loss: 0.20688418853282928... Accuracy: 0.9126666784286499\n",
            "12000/12000 [==============================] - 1s 91us/sample - loss: 0.2072 - acc: 0.9111\n",
            "Epoch: 84... Training loss: 0.20719450177749... Accuracy: 0.9110833406448364\n",
            "12000/12000 [==============================] - 1s 94us/sample - loss: 0.2039 - acc: 0.9143\n",
            "Epoch: 85... Training loss: 0.2039269661307335... Accuracy: 0.9143333435058594\n",
            "12000/12000 [==============================] - 1s 90us/sample - loss: 0.2040 - acc: 0.9151\n",
            "Epoch: 86... Training loss: 0.20399817060430844... Accuracy: 0.9150833487510681\n",
            "12000/12000 [==============================] - 1s 90us/sample - loss: 0.2030 - acc: 0.9154\n",
            "Epoch: 87... Training loss: 0.2030282923479875... Accuracy: 0.9154166579246521\n",
            "12000/12000 [==============================] - 1s 90us/sample - loss: 0.2010 - acc: 0.9162\n",
            "Epoch: 88... Training loss: 0.20098078832030297... Accuracy: 0.9162499904632568\n",
            "12000/12000 [==============================] - 1s 89us/sample - loss: 0.2023 - acc: 0.9170\n",
            "Epoch: 89... Training loss: 0.2022846618493398... Accuracy: 0.9169999957084656\n",
            "12000/12000 [==============================] - 1s 89us/sample - loss: 0.2007 - acc: 0.9174\n",
            "Epoch: 90... Training loss: 0.200713852028052... Accuracy: 0.9174166917800903\n",
            "12000/12000 [==============================] - 1s 91us/sample - loss: 0.1980 - acc: 0.9198\n",
            "Epoch: 91... Training loss: 0.19803249981999396... Accuracy: 0.9198333621025085\n",
            "12000/12000 [==============================] - 1s 91us/sample - loss: 0.1983 - acc: 0.9185\n",
            "Epoch: 92... Training loss: 0.19833409211039543... Accuracy: 0.9185000061988831\n",
            "12000/12000 [==============================] - 1s 92us/sample - loss: 0.1968 - acc: 0.9176\n",
            "Epoch: 93... Training loss: 0.1967812027434508... Accuracy: 0.9175833463668823\n",
            "12000/12000 [==============================] - 1s 93us/sample - loss: 0.1970 - acc: 0.9169\n",
            "Epoch: 94... Training loss: 0.19695017710328103... Accuracy: 0.9169166684150696\n",
            "12000/12000 [==============================] - 1s 89us/sample - loss: 0.1957 - acc: 0.9175\n",
            "Epoch: 95... Training loss: 0.19574067546923954... Accuracy: 0.9175000190734863\n",
            "12000/12000 [==============================] - 1s 92us/sample - loss: 0.1934 - acc: 0.9186\n",
            "Epoch: 96... Training loss: 0.19337963956594467... Accuracy: 0.918583333492279\n",
            "12000/12000 [==============================] - 1s 93us/sample - loss: 0.1926 - acc: 0.9189\n",
            "Epoch: 97... Training loss: 0.19261343576510748... Accuracy: 0.918916642665863\n",
            "12000/12000 [==============================] - 1s 93us/sample - loss: 0.1912 - acc: 0.9212\n",
            "Epoch: 98... Training loss: 0.1912218254605929... Accuracy: 0.9212499856948853\n",
            "12000/12000 [==============================] - 1s 93us/sample - loss: 0.1900 - acc: 0.9208\n",
            "Epoch: 99... Training loss: 0.19001974644263586... Accuracy: 0.9207500219345093\n",
            "12000/12000 [==============================] - 1s 92us/sample - loss: 0.1910 - acc: 0.9209\n",
            "Epoch: 100... Training loss: 0.19095130625367165... Accuracy: 0.9209166765213013\n",
            "12000/12000 [==============================] - 1s 93us/sample - loss: 0.1880 - acc: 0.9230\n",
            "Epoch: 101... Training loss: 0.18802611433466276... Accuracy: 0.9229999780654907\n",
            "12000/12000 [==============================] - 1s 91us/sample - loss: 0.1876 - acc: 0.9220\n",
            "Epoch: 102... Training loss: 0.18758131392796834... Accuracy: 0.921999990940094\n",
            "12000/12000 [==============================] - 1s 91us/sample - loss: 0.1875 - acc: 0.9219\n",
            "Epoch: 103... Training loss: 0.18745371744036674... Accuracy: 0.921916663646698\n",
            "12000/12000 [==============================] - 1s 94us/sample - loss: 0.1873 - acc: 0.9237\n",
            "Epoch: 104... Training loss: 0.1872762079735597... Accuracy: 0.9236666560173035\n",
            "12000/12000 [==============================] - 1s 89us/sample - loss: 0.1863 - acc: 0.9222\n",
            "Epoch: 105... Training loss: 0.1863427502810955... Accuracy: 0.922166645526886\n",
            "12000/12000 [==============================] - 1s 90us/sample - loss: 0.1841 - acc: 0.9242\n",
            "Epoch: 106... Training loss: 0.1840812921623389... Accuracy: 0.9241666793823242\n",
            "12000/12000 [==============================] - 1s 92us/sample - loss: 0.1853 - acc: 0.9234\n",
            "Epoch: 107... Training loss: 0.18527151183287302... Accuracy: 0.9234166741371155\n",
            "12000/12000 [==============================] - 1s 90us/sample - loss: 0.1841 - acc: 0.9244\n",
            "Epoch: 108... Training loss: 0.1841261179248492... Accuracy: 0.9244166612625122\n",
            "12000/12000 [==============================] - 1s 89us/sample - loss: 0.1817 - acc: 0.9254\n",
            "Epoch: 109... Training loss: 0.18166830161213876... Accuracy: 0.9254166483879089\n",
            "12000/12000 [==============================] - 1s 90us/sample - loss: 0.1814 - acc: 0.9262\n",
            "Epoch: 110... Training loss: 0.18142282948891322... Accuracy: 0.9261666536331177\n",
            "12000/12000 [==============================] - 1s 91us/sample - loss: 0.1814 - acc: 0.9252\n",
            "Epoch: 111... Training loss: 0.18135057979822158... Accuracy: 0.925166666507721\n",
            "12000/12000 [==============================] - 1s 89us/sample - loss: 0.1823 - acc: 0.9236\n",
            "Epoch: 112... Training loss: 0.18228183022141456... Accuracy: 0.9235833287239075\n",
            "12000/12000 [==============================] - 1s 90us/sample - loss: 0.1779 - acc: 0.9263\n",
            "Epoch: 113... Training loss: 0.1778663423458735... Accuracy: 0.9263333082199097\n",
            "12000/12000 [==============================] - 1s 90us/sample - loss: 0.1777 - acc: 0.9276\n",
            "Epoch: 114... Training loss: 0.17767145054539044... Accuracy: 0.9275833368301392\n",
            "12000/12000 [==============================] - 1s 91us/sample - loss: 0.1767 - acc: 0.9277\n",
            "Epoch: 115... Training loss: 0.17670373786489169... Accuracy: 0.9276666641235352\n",
            "12000/12000 [==============================] - 1s 90us/sample - loss: 0.1787 - acc: 0.9240\n",
            "Epoch: 116... Training loss: 0.17870739594101906... Accuracy: 0.9240000247955322\n",
            "12000/12000 [==============================] - 1s 90us/sample - loss: 0.1740 - acc: 0.9293\n",
            "Epoch: 117... Training loss: 0.17399177174766858... Accuracy: 0.9293333292007446\n",
            "12000/12000 [==============================] - 1s 89us/sample - loss: 0.1767 - acc: 0.9279\n",
            "Epoch: 118... Training loss: 0.1767334727346897... Accuracy: 0.9279166460037231\n",
            "12000/12000 [==============================] - 1s 91us/sample - loss: 0.1726 - acc: 0.9288\n",
            "Epoch: 119... Training loss: 0.17255498609940212... Accuracy: 0.9288333058357239\n",
            "12000/12000 [==============================] - 1s 89us/sample - loss: 0.1709 - acc: 0.9305\n",
            "Epoch: 120... Training loss: 0.1709300473233064... Accuracy: 0.9304999709129333\n",
            "12000/12000 [==============================] - 1s 91us/sample - loss: 0.1730 - acc: 0.9304\n",
            "Epoch: 121... Training loss: 0.17300337799390156... Accuracy: 0.9304166436195374\n",
            "12000/12000 [==============================] - 1s 91us/sample - loss: 0.1724 - acc: 0.9277\n",
            "Epoch: 122... Training loss: 0.17243886871139208... Accuracy: 0.9277499914169312\n",
            "12000/12000 [==============================] - 1s 93us/sample - loss: 0.1696 - acc: 0.9318\n",
            "Epoch: 123... Training loss: 0.1695589362035195... Accuracy: 0.9318333268165588\n",
            "12000/12000 [==============================] - 1s 88us/sample - loss: 0.1705 - acc: 0.9283\n",
            "Epoch: 124... Training loss: 0.1705406870742639... Accuracy: 0.9282500147819519\n",
            "12000/12000 [==============================] - 1s 89us/sample - loss: 0.1684 - acc: 0.9320\n",
            "Epoch: 125... Training loss: 0.16843799053629238... Accuracy: 0.9319999814033508\n",
            "12000/12000 [==============================] - 1s 89us/sample - loss: 0.1684 - acc: 0.9323\n",
            "Epoch: 126... Training loss: 0.1684349773923556... Accuracy: 0.9322500228881836\n",
            "12000/12000 [==============================] - 1s 88us/sample - loss: 0.1703 - acc: 0.9287\n",
            "Epoch: 127... Training loss: 0.17026044588287673... Accuracy: 0.9286666512489319\n",
            "12000/12000 [==============================] - 1s 90us/sample - loss: 0.1689 - acc: 0.9304\n",
            "Epoch: 128... Training loss: 0.16886915199955305... Accuracy: 0.9304166436195374\n",
            "12000/12000 [==============================] - 1s 91us/sample - loss: 0.1654 - acc: 0.9325\n",
            "Epoch: 129... Training loss: 0.16537690168619157... Accuracy: 0.9325000047683716\n",
            "12000/12000 [==============================] - 1s 91us/sample - loss: 0.1660 - acc: 0.9331\n",
            "Epoch: 130... Training loss: 0.16595306568344434... Accuracy: 0.9330833554267883\n",
            "12000/12000 [==============================] - 1s 90us/sample - loss: 0.1627 - acc: 0.9350\n",
            "Epoch: 131... Training loss: 0.1627384495238463... Accuracy: 0.9350000023841858\n",
            "12000/12000 [==============================] - 1s 90us/sample - loss: 0.1642 - acc: 0.9335\n",
            "Epoch: 132... Training loss: 0.16417020186781883... Accuracy: 0.9334999918937683\n",
            "12000/12000 [==============================] - 1s 91us/sample - loss: 0.1625 - acc: 0.9343\n",
            "Epoch: 133... Training loss: 0.16248339197039605... Accuracy: 0.934333324432373\n",
            "12000/12000 [==============================] - 1s 90us/sample - loss: 0.1625 - acc: 0.9325\n",
            "Epoch: 134... Training loss: 0.16250471870104471... Accuracy: 0.9325000047683716\n",
            "12000/12000 [==============================] - 1s 92us/sample - loss: 0.1623 - acc: 0.9336\n",
            "Epoch: 135... Training loss: 0.16228267901142437... Accuracy: 0.9335833191871643\n",
            "12000/12000 [==============================] - 1s 92us/sample - loss: 0.1623 - acc: 0.9356\n",
            "Epoch: 136... Training loss: 0.16234207208951315... Accuracy: 0.9355833530426025\n",
            "12000/12000 [==============================] - 1s 91us/sample - loss: 0.1591 - acc: 0.9373\n",
            "Epoch: 137... Training loss: 0.15913970569769542... Accuracy: 0.937333345413208\n",
            "12000/12000 [==============================] - 1s 90us/sample - loss: 0.1625 - acc: 0.9331\n",
            "Epoch: 138... Training loss: 0.16250948366522788... Accuracy: 0.9330833554267883\n",
            "12000/12000 [==============================] - 1s 92us/sample - loss: 0.1582 - acc: 0.9361\n",
            "Epoch: 139... Training loss: 0.15816041386127472... Accuracy: 0.9360833168029785\n",
            "12000/12000 [==============================] - 1s 95us/sample - loss: 0.1593 - acc: 0.9357\n",
            "Epoch: 140... Training loss: 0.15933429089188575... Accuracy: 0.9356666803359985\n",
            "12000/12000 [==============================] - 1s 89us/sample - loss: 0.1573 - acc: 0.9368\n",
            "Epoch: 141... Training loss: 0.15733955421050388... Accuracy: 0.9368333220481873\n",
            "12000/12000 [==============================] - 1s 94us/sample - loss: 0.1575 - acc: 0.9367\n",
            "Epoch: 142... Training loss: 0.1575077155927817... Accuracy: 0.9367499947547913\n",
            "12000/12000 [==============================] - 1s 89us/sample - loss: 0.1598 - acc: 0.9352\n",
            "Epoch: 143... Training loss: 0.15978434474269548... Accuracy: 0.9351666569709778\n",
            "12000/12000 [==============================] - 1s 89us/sample - loss: 0.1587 - acc: 0.9378\n",
            "Epoch: 144... Training loss: 0.15868101199467977... Accuracy: 0.937833309173584\n",
            "12000/12000 [==============================] - 1s 91us/sample - loss: 0.1555 - acc: 0.9370\n",
            "Epoch: 145... Training loss: 0.15554297545552254... Accuracy: 0.9369999766349792\n",
            "12000/12000 [==============================] - 1s 88us/sample - loss: 0.1564 - acc: 0.9363\n",
            "Epoch: 146... Training loss: 0.15639661144216854... Accuracy: 0.9363333582878113\n",
            "12000/12000 [==============================] - 1s 90us/sample - loss: 0.1552 - acc: 0.9360\n",
            "Epoch: 147... Training loss: 0.15519473362962405... Accuracy: 0.9359999895095825\n",
            "12000/12000 [==============================] - 1s 91us/sample - loss: 0.1562 - acc: 0.9358\n",
            "Epoch: 148... Training loss: 0.15618734748164811... Accuracy: 0.9358333349227905\n",
            "12000/12000 [==============================] - 1s 91us/sample - loss: 0.1518 - acc: 0.9383\n",
            "Epoch: 149... Training loss: 0.15177538529038428... Accuracy: 0.9383333325386047\n",
            "12000/12000 [==============================] - 1s 91us/sample - loss: 0.1530 - acc: 0.9383\n",
            "Epoch: 150... Training loss: 0.15302074323097864... Accuracy: 0.9383333325386047\n",
            "12000/12000 [==============================] - 1s 91us/sample - loss: 0.1550 - acc: 0.9377\n",
            "Epoch: 151... Training loss: 0.1550330066184203... Accuracy: 0.937749981880188\n",
            "12000/12000 [==============================] - 1s 94us/sample - loss: 0.1523 - acc: 0.9396\n",
            "Epoch: 152... Training loss: 0.1522504578580459... Accuracy: 0.9395833611488342\n",
            "12000/12000 [==============================] - 1s 92us/sample - loss: 0.1523 - acc: 0.9377\n",
            "Epoch: 153... Training loss: 0.15232248194515705... Accuracy: 0.937749981880188\n",
            "12000/12000 [==============================] - 1s 89us/sample - loss: 0.1536 - acc: 0.9365\n",
            "Epoch: 154... Training loss: 0.15356564353903135... Accuracy: 0.9365000128746033\n",
            "12000/12000 [==============================] - 1s 92us/sample - loss: 0.1524 - acc: 0.9361\n",
            "Epoch: 155... Training loss: 0.15237905937433244... Accuracy: 0.9360833168029785\n",
            "12000/12000 [==============================] - 1s 94us/sample - loss: 0.1508 - acc: 0.9383\n",
            "Epoch: 156... Training loss: 0.15083620510498683... Accuracy: 0.9383333325386047\n",
            "12000/12000 [==============================] - 1s 91us/sample - loss: 0.1495 - acc: 0.9394\n",
            "Epoch: 157... Training loss: 0.1495296052893003... Accuracy: 0.9394166469573975\n",
            "12000/12000 [==============================] - 1s 90us/sample - loss: 0.1523 - acc: 0.9367\n",
            "Epoch: 158... Training loss: 0.15232806984583536... Accuracy: 0.9367499947547913\n",
            "12000/12000 [==============================] - 1s 91us/sample - loss: 0.1475 - acc: 0.9413\n",
            "Epoch: 159... Training loss: 0.1474784977535407... Accuracy: 0.9413333535194397\n",
            "12000/12000 [==============================] - 1s 88us/sample - loss: 0.1501 - acc: 0.9395\n",
            "Epoch: 160... Training loss: 0.1500543602357308... Accuracy: 0.9394999742507935\n",
            "12000/12000 [==============================] - 1s 89us/sample - loss: 0.1473 - acc: 0.9409\n",
            "Epoch: 161... Training loss: 0.14727437632282575... Accuracy: 0.9409166574478149\n",
            "12000/12000 [==============================] - 1s 91us/sample - loss: 0.1495 - acc: 0.9383\n",
            "Epoch: 162... Training loss: 0.1494700787613789... Accuracy: 0.9382500052452087\n",
            "12000/12000 [==============================] - 1s 89us/sample - loss: 0.1503 - acc: 0.9372\n",
            "Epoch: 163... Training loss: 0.1502883248925209... Accuracy: 0.937166690826416\n",
            "12000/12000 [==============================] - 1s 90us/sample - loss: 0.1480 - acc: 0.9392\n",
            "Epoch: 164... Training loss: 0.1480139485200246... Accuracy: 0.9391666650772095\n",
            "12000/12000 [==============================] - 1s 89us/sample - loss: 0.1470 - acc: 0.9406\n",
            "Epoch: 165... Training loss: 0.14701142086585361... Accuracy: 0.940583348274231\n",
            "12000/12000 [==============================] - 1s 89us/sample - loss: 0.1460 - acc: 0.9407\n",
            "Epoch: 166... Training loss: 0.14596535579363504... Accuracy: 0.940666675567627\n",
            "12000/12000 [==============================] - 1s 90us/sample - loss: 0.1470 - acc: 0.9399\n",
            "Epoch: 167... Training loss: 0.1470461793442567... Accuracy: 0.9399166703224182\n",
            "12000/12000 [==============================] - 1s 89us/sample - loss: 0.1447 - acc: 0.9404\n",
            "Epoch: 168... Training loss: 0.14465489171942075... Accuracy: 0.940416693687439\n",
            "12000/12000 [==============================] - 1s 92us/sample - loss: 0.1438 - acc: 0.9416\n",
            "Epoch: 169... Training loss: 0.14381950908899307... Accuracy: 0.9415833353996277\n",
            "12000/12000 [==============================] - 1s 88us/sample - loss: 0.1451 - acc: 0.9412\n",
            "Epoch: 170... Training loss: 0.14509626627961794... Accuracy: 0.9411666393280029\n",
            "12000/12000 [==============================] - 1s 89us/sample - loss: 0.1458 - acc: 0.9403\n",
            "Epoch: 171... Training loss: 0.14575977606574694... Accuracy: 0.9403333067893982\n",
            "12000/12000 [==============================] - 1s 94us/sample - loss: 0.1451 - acc: 0.9432\n",
            "Epoch: 172... Training loss: 0.14513952348629633... Accuracy: 0.9431666731834412\n",
            "12000/12000 [==============================] - 1s 89us/sample - loss: 0.1428 - acc: 0.9425\n",
            "Epoch: 173... Training loss: 0.14275771949688593... Accuracy: 0.9424999952316284\n",
            "12000/12000 [==============================] - 1s 90us/sample - loss: 0.1433 - acc: 0.9402\n",
            "Epoch: 174... Training loss: 0.14329378951589267... Accuracy: 0.9401666522026062\n",
            "12000/12000 [==============================] - 1s 91us/sample - loss: 0.1407 - acc: 0.9438\n",
            "Epoch: 175... Training loss: 0.1407412110865116... Accuracy: 0.9437500238418579\n",
            "12000/12000 [==============================] - 1s 92us/sample - loss: 0.1436 - acc: 0.9400\n",
            "Epoch: 176... Training loss: 0.1435576274295648... Accuracy: 0.9399999976158142\n",
            "12000/12000 [==============================] - 1s 90us/sample - loss: 0.1419 - acc: 0.9417\n",
            "Epoch: 177... Training loss: 0.14192023185888927... Accuracy: 0.9416666626930237\n",
            "12000/12000 [==============================] - 1s 90us/sample - loss: 0.1423 - acc: 0.9427\n",
            "Epoch: 178... Training loss: 0.14233935781319937... Accuracy: 0.9427499771118164\n",
            "12000/12000 [==============================] - 1s 89us/sample - loss: 0.1402 - acc: 0.9424\n",
            "Epoch: 179... Training loss: 0.14017408049106597... Accuracy: 0.9424166679382324\n",
            "12000/12000 [==============================] - 1s 93us/sample - loss: 0.1425 - acc: 0.9420\n",
            "Epoch: 180... Training loss: 0.14247795192400614... Accuracy: 0.9419999718666077\n",
            "12000/12000 [==============================] - 1s 90us/sample - loss: 0.1422 - acc: 0.9427\n",
            "Epoch: 181... Training loss: 0.1422463947236538... Accuracy: 0.9426666498184204\n",
            "12000/12000 [==============================] - 1s 92us/sample - loss: 0.1431 - acc: 0.9408\n",
            "Epoch: 182... Training loss: 0.14313818849623203... Accuracy: 0.940750002861023\n",
            "12000/12000 [==============================] - 1s 91us/sample - loss: 0.1417 - acc: 0.9423\n",
            "Epoch: 183... Training loss: 0.14169952098528543... Accuracy: 0.9423333406448364\n",
            "12000/12000 [==============================] - 1s 90us/sample - loss: 0.1397 - acc: 0.9442\n",
            "Epoch: 184... Training loss: 0.13974036089579264... Accuracy: 0.9441666603088379\n",
            "12000/12000 [==============================] - 1s 91us/sample - loss: 0.1399 - acc: 0.9441\n",
            "Epoch: 185... Training loss: 0.13994749729335307... Accuracy: 0.9440833330154419\n",
            "12000/12000 [==============================] - 1s 91us/sample - loss: 0.1419 - acc: 0.9413\n",
            "Epoch: 186... Training loss: 0.14187109405795734... Accuracy: 0.9413333535194397\n",
            "12000/12000 [==============================] - 1s 90us/sample - loss: 0.1400 - acc: 0.9432\n",
            "Epoch: 187... Training loss: 0.13999132017791271... Accuracy: 0.9431666731834412\n",
            "12000/12000 [==============================] - 1s 93us/sample - loss: 0.1404 - acc: 0.9413\n",
            "Epoch: 188... Training loss: 0.1404022104938825... Accuracy: 0.9413333535194397\n",
            "12000/12000 [==============================] - 1s 91us/sample - loss: 0.1418 - acc: 0.9408\n",
            "Epoch: 189... Training loss: 0.14182843008637427... Accuracy: 0.940833330154419\n",
            "12000/12000 [==============================] - 1s 89us/sample - loss: 0.1399 - acc: 0.9417\n",
            "Epoch: 190... Training loss: 0.1398789863338073... Accuracy: 0.9417499899864197\n",
            "12000/12000 [==============================] - 1s 95us/sample - loss: 0.1381 - acc: 0.9436\n",
            "Epoch: 191... Training loss: 0.13805957577129205... Accuracy: 0.9435833096504211\n",
            "12000/12000 [==============================] - 1s 89us/sample - loss: 0.1397 - acc: 0.9420\n",
            "Epoch: 192... Training loss: 0.13967774124940235... Accuracy: 0.9419999718666077\n",
            "12000/12000 [==============================] - 1s 91us/sample - loss: 0.1382 - acc: 0.9429\n",
            "Epoch: 193... Training loss: 0.13815744669238728... Accuracy: 0.9429166913032532\n",
            "12000/12000 [==============================] - 1s 90us/sample - loss: 0.1399 - acc: 0.9432\n",
            "Epoch: 194... Training loss: 0.13985659082730612... Accuracy: 0.9431666731834412\n",
            "12000/12000 [==============================] - 1s 90us/sample - loss: 0.1387 - acc: 0.9438\n",
            "Epoch: 195... Training loss: 0.1387299180875222... Accuracy: 0.9438333511352539\n",
            "12000/12000 [==============================] - 1s 91us/sample - loss: 0.1384 - acc: 0.9418\n",
            "Epoch: 196... Training loss: 0.1384152310192585... Accuracy: 0.9418333172798157\n",
            "12000/12000 [==============================] - 1s 89us/sample - loss: 0.1369 - acc: 0.9440\n",
            "Epoch: 197... Training loss: 0.13686084469656148... Accuracy: 0.9440000057220459\n",
            "12000/12000 [==============================] - 1s 89us/sample - loss: 0.1359 - acc: 0.9437\n",
            "Epoch: 198... Training loss: 0.13593202119568984... Accuracy: 0.9436666369438171\n",
            "12000/12000 [==============================] - 1s 90us/sample - loss: 0.1375 - acc: 0.9426\n",
            "Epoch: 199... Training loss: 0.1375252803117037... Accuracy: 0.9425833225250244\n",
            "Confusion matrix:\n",
            "[[1448   39    0]\n",
            " [  64 1022   22]\n",
            " [   0   56  349]]\n",
            "Accuracy: \n",
            "0.9396666666666667\n"
          ],
          "name": "stdout"
        }
      ]
    },
    {
      "cell_type": "markdown",
      "metadata": {
        "id": "ywAI6WfHujxe",
        "colab_type": "text"
      },
      "source": [
        "### MNIST Classification"
      ]
    },
    {
      "cell_type": "code",
      "metadata": {
        "id": "15_FXzMGVK1j",
        "colab_type": "code",
        "colab": {}
      },
      "source": [
        "def tf_mnist_classification():\n",
        "    # Load data from file\n",
        "    # Make sure that fashion-mnist/*.gz is in data/\n",
        "    train_X, train_Y, val_X, val_Y, test_X, test_Y = get_mnist_data(1)\n",
        "    train_X, val_X, test_X = normalize(train_X, val_X, test_X)    \n",
        "    \n",
        "    num_class = (np.unique(train_Y)).shape[0]\n",
        "\n",
        "    # Pad 1 as the third feature of train_x and test_x\n",
        "    train_X = add_one(train_X)\n",
        "    val_X = add_one(val_X)\n",
        "    test_X = add_one(test_X)\n",
        "    \n",
        "    train_Y = create_one_hot(train_Y, num_class)\n",
        "    val_Y = create_one_hot(val_Y, num_class)\n",
        "\n",
        "    # Define hyper-parameters and train-related parameters\n",
        "    hidden_layers = [128, 256, 100, 64]\n",
        "    learning_rate = 0.001\n",
        "    epochs = 50\n",
        "    activation = tf.nn.relu\n",
        "    optimizer = tf.train.AdamOptimizer(learning_rate=learning_rate)\n",
        "\n",
        "    #Initialize model\n",
        "    dnn = DNNModel(hidden_layers=hidden_layers, num_classes=num_class,\n",
        "                   activation=activation, epochs=epochs, optimizer=optimizer)\n",
        "    #Train\n",
        "    dnn.train(train_X, train_Y)\n",
        "\n",
        "    # TEST\n",
        "    # Confusion matrix\n",
        "    metrics = confusion_matrix(test_Y, dnn.predict(test_X))\n",
        "    print('Confusion matrix:')\n",
        "    print(metrics)\n",
        "    print(\"Accuracy: \")\n",
        "    print(metrics.trace()/test_Y.shape[0])"
      ],
      "execution_count": 0,
      "outputs": []
    },
    {
      "cell_type": "code",
      "metadata": {
        "id": "Vv9L55P8VK1l",
        "colab_type": "code",
        "colab": {
          "base_uri": "https://localhost:8080/",
          "height": 1000
        },
        "outputId": "af15f805-f358-4129-f9f5-ffe0569dfaa4"
      },
      "source": [
        "tf_mnist_classification()"
      ],
      "execution_count": 85,
      "outputs": [
        {
          "output_type": "stream",
          "text": [
            "Reading fashion MNIST data...\n",
            "Done reading\n",
            "50000/50000 [==============================] - 6s 113us/sample - loss: 0.4824 - acc: 0.8244\n",
            "Epoch: 0... Training loss: 0.4823895571947098... Accuracy: 0.824400007724762\n",
            "50000/50000 [==============================] - 6s 111us/sample - loss: 0.3668 - acc: 0.8645\n",
            "Epoch: 1... Training loss: 0.36675644339561464... Accuracy: 0.8644800186157227\n",
            "50000/50000 [==============================] - 6s 112us/sample - loss: 0.3329 - acc: 0.8762\n",
            "Epoch: 2... Training loss: 0.3328789177083969... Accuracy: 0.8761600255966187\n",
            "50000/50000 [==============================] - 6s 112us/sample - loss: 0.3050 - acc: 0.8875\n",
            "Epoch: 3... Training loss: 0.30498035311222077... Accuracy: 0.8875200152397156\n",
            "50000/50000 [==============================] - 6s 111us/sample - loss: 0.2905 - acc: 0.8916\n",
            "Epoch: 4... Training loss: 0.2904662273645401... Accuracy: 0.8915600180625916\n",
            "50000/50000 [==============================] - 6s 111us/sample - loss: 0.2722 - acc: 0.8986\n",
            "Epoch: 5... Training loss: 0.2721831413888931... Accuracy: 0.8985999822616577\n",
            "50000/50000 [==============================] - 6s 110us/sample - loss: 0.2605 - acc: 0.9027\n",
            "Epoch: 6... Training loss: 0.2604544253253937... Accuracy: 0.9026600122451782\n",
            "50000/50000 [==============================] - 6s 111us/sample - loss: 0.2487 - acc: 0.9077\n",
            "Epoch: 7... Training loss: 0.24866674698233604... Accuracy: 0.9077399969100952\n",
            "50000/50000 [==============================] - 6s 111us/sample - loss: 0.2371 - acc: 0.9105\n",
            "Epoch: 8... Training loss: 0.2371395623731613... Accuracy: 0.910539984703064\n",
            "50000/50000 [==============================] - 6s 111us/sample - loss: 0.2234 - acc: 0.9155\n",
            "Epoch: 9... Training loss: 0.22336725882053377... Accuracy: 0.9155399799346924\n",
            "50000/50000 [==============================] - 5s 110us/sample - loss: 0.2202 - acc: 0.9171\n",
            "Epoch: 10... Training loss: 0.22016394591569902... Accuracy: 0.9170600175857544\n",
            "50000/50000 [==============================] - 6s 111us/sample - loss: 0.2084 - acc: 0.9211\n",
            "Epoch: 11... Training loss: 0.20837228692770005... Accuracy: 0.9210799932479858\n",
            "50000/50000 [==============================] - 6s 111us/sample - loss: 0.2033 - acc: 0.9217\n",
            "Epoch: 12... Training loss: 0.20333488668322564... Accuracy: 0.921720027923584\n",
            "50000/50000 [==============================] - 6s 111us/sample - loss: 0.1939 - acc: 0.9269\n",
            "Epoch: 13... Training loss: 0.19390110745191574... Accuracy: 0.9269400238990784\n",
            "50000/50000 [==============================] - 6s 111us/sample - loss: 0.1884 - acc: 0.9286\n",
            "Epoch: 14... Training loss: 0.18842385174155235... Accuracy: 0.9285600185394287\n",
            "50000/50000 [==============================] - 6s 111us/sample - loss: 0.1784 - acc: 0.9323\n",
            "Epoch: 15... Training loss: 0.17844134307682513... Accuracy: 0.9323199987411499\n",
            "50000/50000 [==============================] - 6s 117us/sample - loss: 0.1764 - acc: 0.9336\n",
            "Epoch: 16... Training loss: 0.1763656012737751... Accuracy: 0.9336400032043457\n",
            "50000/50000 [==============================] - 6s 122us/sample - loss: 0.1692 - acc: 0.9353\n",
            "Epoch: 17... Training loss: 0.16923170231461526... Accuracy: 0.9352800250053406\n",
            "50000/50000 [==============================] - 6s 113us/sample - loss: 0.1650 - acc: 0.9384\n",
            "Epoch: 18... Training loss: 0.16501379799067975... Accuracy: 0.9384199976921082\n",
            "50000/50000 [==============================] - 6s 110us/sample - loss: 0.1576 - acc: 0.9404\n",
            "Epoch: 19... Training loss: 0.15755683752268554... Accuracy: 0.9404199719429016\n",
            "50000/50000 [==============================] - 6s 111us/sample - loss: 0.1544 - acc: 0.9419\n",
            "Epoch: 20... Training loss: 0.15441058813259007... Accuracy: 0.941860020160675\n",
            "50000/50000 [==============================] - 6s 111us/sample - loss: 0.1475 - acc: 0.9454\n",
            "Epoch: 21... Training loss: 0.14745416895776986... Accuracy: 0.945360004901886\n",
            "50000/50000 [==============================] - 6s 111us/sample - loss: 0.1440 - acc: 0.9459\n",
            "Epoch: 22... Training loss: 0.14403229191988706... Accuracy: 0.9459400177001953\n",
            "50000/50000 [==============================] - 6s 112us/sample - loss: 0.1389 - acc: 0.9469\n",
            "Epoch: 23... Training loss: 0.13894518566280603... Accuracy: 0.946940004825592\n",
            "50000/50000 [==============================] - 6s 112us/sample - loss: 0.1376 - acc: 0.9487\n",
            "Epoch: 24... Training loss: 0.13760098104029894... Accuracy: 0.9487199783325195\n",
            "50000/50000 [==============================] - 6s 112us/sample - loss: 0.1329 - acc: 0.9493\n",
            "Epoch: 25... Training loss: 0.13294249156832694... Accuracy: 0.9493200182914734\n",
            "50000/50000 [==============================] - 6s 113us/sample - loss: 0.1275 - acc: 0.9524\n",
            "Epoch: 26... Training loss: 0.12745862511724235... Accuracy: 0.9523599743843079\n",
            "50000/50000 [==============================] - 6s 111us/sample - loss: 0.1240 - acc: 0.9539\n",
            "Epoch: 27... Training loss: 0.12395813786994665... Accuracy: 0.9538800120353699\n",
            "50000/50000 [==============================] - 6s 111us/sample - loss: 0.1258 - acc: 0.9522\n",
            "Epoch: 28... Training loss: 0.1258174771220982... Accuracy: 0.9521999955177307\n",
            "50000/50000 [==============================] - 6s 112us/sample - loss: 0.1186 - acc: 0.9555\n",
            "Epoch: 29... Training loss: 0.11855779093429446... Accuracy: 0.9555000066757202\n",
            "50000/50000 [==============================] - 6s 111us/sample - loss: 0.1178 - acc: 0.9565\n",
            "Epoch: 30... Training loss: 0.11776697811603547... Accuracy: 0.9565200209617615\n",
            "50000/50000 [==============================] - 6s 111us/sample - loss: 0.1101 - acc: 0.9588\n",
            "Epoch: 31... Training loss: 0.11011479079656303... Accuracy: 0.958840012550354\n",
            "50000/50000 [==============================] - 6s 112us/sample - loss: 0.1095 - acc: 0.9583\n",
            "Epoch: 32... Training loss: 0.1095266958554089... Accuracy: 0.958299994468689\n",
            "50000/50000 [==============================] - 6s 111us/sample - loss: 0.1084 - acc: 0.9592\n",
            "Epoch: 33... Training loss: 0.10837138758569956... Accuracy: 0.9592000246047974\n",
            "50000/50000 [==============================] - 6s 111us/sample - loss: 0.1072 - acc: 0.9592\n",
            "Epoch: 34... Training loss: 0.10721294306070543... Accuracy: 0.9592199921607971\n",
            "50000/50000 [==============================] - 6s 110us/sample - loss: 0.1037 - acc: 0.9614\n",
            "Epoch: 35... Training loss: 0.10367116269797087... Accuracy: 0.9614400267601013\n",
            "50000/50000 [==============================] - 6s 110us/sample - loss: 0.1031 - acc: 0.9611\n",
            "Epoch: 36... Training loss: 0.1030975645454973... Accuracy: 0.961080014705658\n",
            "50000/50000 [==============================] - 6s 120us/sample - loss: 0.0977 - acc: 0.9636\n",
            "Epoch: 37... Training loss: 0.0976640403842926... Accuracy: 0.9635800123214722\n",
            "50000/50000 [==============================] - 6s 112us/sample - loss: 0.0976 - acc: 0.9630\n",
            "Epoch: 38... Training loss: 0.09757151048570871... Accuracy: 0.9629999995231628\n",
            "50000/50000 [==============================] - 6s 111us/sample - loss: 0.1000 - acc: 0.9637\n",
            "Epoch: 39... Training loss: 0.10001444113120436... Accuracy: 0.9636800289154053\n",
            "50000/50000 [==============================] - 6s 112us/sample - loss: 0.0914 - acc: 0.9668\n",
            "Epoch: 40... Training loss: 0.09138328363271431... Accuracy: 0.9667800068855286\n",
            "50000/50000 [==============================] - 6s 111us/sample - loss: 0.0879 - acc: 0.9671\n",
            "Epoch: 41... Training loss: 0.08789809134311974... Accuracy: 0.9671000242233276\n",
            "50000/50000 [==============================] - 6s 112us/sample - loss: 0.0899 - acc: 0.9678\n",
            "Epoch: 42... Training loss: 0.08988627737490461... Accuracy: 0.9677600264549255\n",
            "50000/50000 [==============================] - 6s 112us/sample - loss: 0.0903 - acc: 0.9672\n",
            "Epoch: 43... Training loss: 0.09027059617798776... Accuracy: 0.9672200083732605\n",
            "50000/50000 [==============================] - 6s 112us/sample - loss: 0.0890 - acc: 0.9675\n",
            "Epoch: 44... Training loss: 0.08904196537273004... Accuracy: 0.9675400257110596\n",
            "50000/50000 [==============================] - 6s 112us/sample - loss: 0.0833 - acc: 0.9698\n",
            "Epoch: 45... Training loss: 0.08326093765108847... Accuracy: 0.969760000705719\n",
            "50000/50000 [==============================] - 6s 112us/sample - loss: 0.0825 - acc: 0.9702\n",
            "Epoch: 46... Training loss: 0.08253982873555273... Accuracy: 0.9701799750328064\n",
            "50000/50000 [==============================] - 6s 111us/sample - loss: 0.0819 - acc: 0.9700\n",
            "Epoch: 47... Training loss: 0.08188620828732848... Accuracy: 0.9700000286102295\n",
            "50000/50000 [==============================] - 6s 111us/sample - loss: 0.0809 - acc: 0.9706\n",
            "Epoch: 48... Training loss: 0.08089379466379061... Accuracy: 0.9706000089645386\n",
            "50000/50000 [==============================] - 6s 112us/sample - loss: 0.0852 - acc: 0.9686\n",
            "Epoch: 49... Training loss: 0.08522586332902313... Accuracy: 0.9685800075531006\n",
            "Confusion matrix:\n",
            "[[849   0  23  21   5   1  97   0   4   0]\n",
            " [  3 974   1  16   4   0   1   0   1   0]\n",
            " [ 21   1 780  10  91   0  96   0   1   0]\n",
            " [ 24   9  14 891  37   1  19   0   5   0]\n",
            " [  4   1  66  24 841   0  63   0   1   0]\n",
            " [  1   0   0   0   0 956   0  27   0  16]\n",
            " [134   1  69  27  64   1 697   0   7   0]\n",
            " [  0   0   0   0   0  26   0 940   0  34]\n",
            " [ 14   0   2   6   4   8   8   6 952   0]\n",
            " [  1   0   0   0   0   8   1  25   0 965]]\n",
            "Accuracy: \n",
            "0.8845\n"
          ],
          "name": "stdout"
        }
      ]
    },
    {
      "cell_type": "markdown",
      "metadata": {
        "id": "A796xi6AaXwy",
        "colab_type": "text"
      },
      "source": [
        "## III. Thang điểm\n",
        "\n"
      ]
    },
    {
      "cell_type": "markdown",
      "metadata": {
        "id": "ojErsXU5xX6u",
        "colab_type": "text"
      },
      "source": [
        "| TODO  | Điểm  |   |   |   |\n",
        "|---|---|---|---|---|\n",
        "|\\[TODO 1\\] Cài đặt các hàm activation   |  1 |   |   |   |\n",
        "|\\[TODO 2\\] Hàm `forward`/`HiddenLayer` | 1  |   |   |   |\n",
        "|\\[TODO 3\\] Hàm `backward`/`HiddenLayer`  | 2  |   |   |   |\n",
        "|\\[TODO 4\\] Hàm `forward`/`NeuralNetwork`  | 0.5  |   |   |   |\n",
        "|\\[TODO 5\\] Hàm `compute_loss`/`NeuralNetwork`  | 1.5  |   |   |   |\n",
        "|\\[TODO 6\\] Hàm `compute_delta_grad_last`/`NeuralNetwork`  | 1  |   |   |   |\n",
        "|\\[TODO 7\\] Hàm `backward`/`NeuralNetwork`  | 1  |   |   |   |\n",
        "|\\[TODO 8\\] Hàm `update_weight_momentum`/`NeuralNetwork`  | 1  |   |   |   |\n",
        "|\\[TODO 9\\] Hàm `minibatch_train`  | 2  |   |   |   |\n",
        "|\\[TODO 10\\] Cài đặt kiến trúc Neural network sử dụng tensorflow  | 1  |   |   |   |\n",
        "|\\[TODO 11\\] Cài đặt hàm tính accuracy  | 1  |   |   |   |\n",
        "|\\[TODO 12\\] Cài đặt hàm train trong class `DNNModel`  | 2  |   |   |   |\n",
        "|**Tổng**| **15**  |   |   |   |"
      ]
    },
    {
      "cell_type": "markdown",
      "metadata": {
        "id": "UWgbEVveBxji",
        "colab_type": "text"
      },
      "source": [
        "## Author: Giang Tran, Hoa Nguyen"
      ]
    },
    {
      "cell_type": "code",
      "metadata": {
        "id": "AnHV18q7eVgA",
        "colab_type": "code",
        "colab": {}
      },
      "source": [
        ""
      ],
      "execution_count": 0,
      "outputs": []
    }
  ]
}