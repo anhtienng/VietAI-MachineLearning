{
  "nbformat": 4,
  "nbformat_minor": 0,
  "metadata": {
    "accelerator": "GPU",
    "colab": {
      "name": "Assignment_3_CNN.ipynb",
      "provenance": [],
      "collapsed_sections": [
        "6DN3gs3aT6Mg",
        "Oj4C8OMZT6Mh",
        "qO-PkgqyT6Mj",
        "CkbJdSYmT6Mk"
      ],
      "toc_visible": true,
      "machine_shape": "hm"
    },
    "kernelspec": {
      "name": "python3",
      "display_name": "Python 3"
    },
    "language_info": {
      "codemirror_mode": {
        "name": "ipython",
        "version": 3
      },
      "file_extension": ".py",
      "mimetype": "text/x-python",
      "name": "python",
      "nbconvert_exporter": "python",
      "pygments_lexer": "ipython3",
      "version": "3.7.3"
    }
  },
  "cells": [
    {
      "cell_type": "markdown",
      "metadata": {
        "colab_type": "text",
        "id": "UuiKELEdT6MF"
      },
      "source": [
        "# Giới thiệu Convolution Nets\n",
        "\n",
        "Convolutional Neural Networks (CNN) là một trong những mô hình deep learning phổ biến nhất và có ảnh hưởng nhiều nhất trong cộng đồng Computer Vision. CNN được dùng trong nhiều bài toán như nhận dạng ảnh, phân tích video, ảnh MRI, hoặc cho các bài của lĩnh vực xử lý ngôn ngữ tự nhiên, và hầu hết đều giải quyết tốt các bài toán này. \n",
        "\n",
        "CNN cũng có lịch sử khá lâu đời. Kiến trúc gốc của mô hình CNN được giới thiệu bởi một nhà khoa học máy tính người Nhật vào năm 1980. Sau đó, năm 1998, Yan LeCun lần đầu huấn luyện mô hình CNN với thuật toán backpropagation cho bài toán nhận dạng chữ viết tay. Tuy nhiên, mãi đến năm 2012, khi một nhà khoa học máy tính người Ukraine Alex Krizhevsky (đệ của Geoffrey Hinton) xây dựng mô hình CNN (AlexNet) và sử dụng GPU để tăng tốc quá trình huấn luyện deep nets để đạt được top 1 trong cuộc thi Computer Vision thường niên ImageNet với độ lỗi phân lớp top 5 giảm hơn 10% so với những mô hình truyền thống trước đó, đã tạo nên làn sóng mãnh mẽ sử dụng deep CNN với sự hỗ trợ của GPU để giải quyết càng nhiều các vấn đề trong Computer Vision.\n",
        "\n",
        "# Bài Toán Phân loại Ảnh\n",
        "Phân loại ảnh là một bài toán quan trọng bậc nhất trong lĩnh vực Computer Vision. Chúng ta đã có rất nhiều nghiên cứu để giải quyết bài toán này bằng cách rút trích các đặc trưng rất phổ biến như SIFT, HOG rồi cho máy tính học nhưng những cách này tỏ ra không thực sự hiểu quả. Nhưng ngược lại, đối với con người, chúng ta lại có bản năng tuyệt vời để phân loại được những đối tượng trong khung cảnh xung quanh một cách dễ dàng.\n",
        "\n",
        "Dữ liệu đầu vào của bài toán là một bức ảnh. Một ảnh được biểu diễn bằng ma trận các giá trị. Mô hình phân lớp sẽ phải dự đoán được lớp của ảnh từ ma trận điểm ảnh này, ví dụ như ảnh đó là con mèo, chó, hay là chim.\n",
        "\n",
        "![](https://pbcquoc.github.io/images/cnn_input.png)\n",
        "\n",
        "# Nội dung \n",
        "Trong assignment này, mình sẽ hướng dẫn các bạn xây dựng mô hình CNN (Convolution Neural Nets) cho bài toán phân loại ảnh. Các bạn sẽ sử dụng tensorflow [eager execution](https://www.tensorflow.org/guide/eager) để xây dựng model, huấn luyện mô hình trên tập train và predict ảnh trong tập test. \n",
        "\n",
        "Assignment này sẽ có câú trúc như sau:\n",
        "1. Import/ Xử lý dữ liệu\n",
        "2. Xây dựng mô hình\n",
        "3. Huấn luyện mô hình\n",
        "4. Đánh giá mô hình\n",
        "5. Sử dụng mô hình đã huấn luyện để dự đoán và nộp kết quả lên Kaggle\n",
        "\n",
        "**Lưu ý: điểm xếp hạng trên Kaggle chỉ chiếm 30% số điểm, 70% số điểm còn lại sẽ chấm ở file notebook này**."
      ]
    },
    {
      "cell_type": "markdown",
      "metadata": {
        "colab_type": "text",
        "id": "1noDSEH2T6MG"
      },
      "source": [
        "# Import thư viện\n",
        "\n",
        "Chúng ta sử dụng một số hàm cơ bản trong tensorflow, sklearn và phải gọi hàm tf.enable_eager_execution. "
      ]
    },
    {
      "cell_type": "code",
      "metadata": {
        "colab_type": "code",
        "id": "lpEf76pvT6MH",
        "colab": {}
      },
      "source": [
        "import os\n",
        "import numpy as np\n",
        "np.warnings.filterwarnings('ignore')\n",
        "os.environ['TF_CPP_MIN_LOG_LEVEL'] = '3' \n",
        "\n",
        "import pandas as pd\n",
        "from tqdm import tqdm\n",
        "\n",
        "from google_drive_downloader import GoogleDriveDownloader as gdd\n",
        "import matplotlib.pyplot as plt\n",
        "import tensorflow as tf\n",
        "from sklearn.model_selection import train_test_split\n",
        "from tensorflow.contrib.eager.python import tfe\n",
        "from PIL import Image\n",
        "\n",
        "tf.enable_eager_execution()\n",
        "tf.set_random_seed(0)\n",
        "np.random.seed(0)"
      ],
      "execution_count": 0,
      "outputs": []
    },
    {
      "cell_type": "markdown",
      "metadata": {
        "colab_type": "text",
        "id": "E-drPZYqT6MK"
      },
      "source": [
        "# Import và inspect dữ liệu\n",
        "Trong bài này, các bạn phải xây dựng mô hình để xác định các địa danh nổi tiếng trên lãnh thổ Việt Nam được mô tả trong bức ảnh. Tập dữ liệu huấn luyện bao gồm 10 ngàn ảnh, là một phần nhỏ của bộ dữ liệu trong cuộc thi ZaloAI năm 2018. \n"
      ]
    },
    {
      "cell_type": "markdown",
      "metadata": {
        "colab_type": "text",
        "id": "6kFHSLe3T6ML"
      },
      "source": [
        "## Download dữ liệu\n",
        "Bạn có thể sử dụng trực tiếp dữ liệu trên competition được host trên Kaggle: [VietAI Foundation Course - CNN Assignment](https://www.kaggle.com/c/vietai-fc-cnn-assignment/data)\n",
        "\n",
        "Hoặc tải dữ liệu xuống từ Google Drive"
      ]
    },
    {
      "cell_type": "code",
      "metadata": {
        "colab_type": "code",
        "id": "TCiEHjzHT6ML",
        "outputId": "2120d55b-4cf2-4d39-c255-dba87126d63e",
        "colab": {
          "base_uri": "https://localhost:8080/",
          "height": 52
        }
      },
      "source": [
        "gdd.download_file_from_google_drive(file_id='1ycR7Aexe8xbZ8oEDsQwGc9SIiFklRpfu', dest_path='./data.zip', unzip=True)"
      ],
      "execution_count": 2,
      "outputs": [
        {
          "output_type": "stream",
          "text": [
            "Downloading 1ycR7Aexe8xbZ8oEDsQwGc9SIiFklRpfu into ./data.zip... Done.\n",
            "Unzipping...Done.\n"
          ],
          "name": "stdout"
        }
      ]
    },
    {
      "cell_type": "markdown",
      "metadata": {
        "colab_type": "text",
        "id": "FQQFKcGLC1ZK"
      },
      "source": [
        "Dữ liệu tải xuống sẽ chứa trong folder `data`. Cấu trúc thư mục như sau:"
      ]
    },
    {
      "cell_type": "code",
      "metadata": {
        "colab_type": "code",
        "id": "6OgiAISfDBVD",
        "outputId": "83b2f272-8222-4389-b853-b6c0f2616d0c",
        "colab": {
          "base_uri": "https://localhost:8080/",
          "height": 35
        }
      },
      "source": [
        "data_dir = 'data'\n",
        "os.listdir(data_dir)"
      ],
      "execution_count": 3,
      "outputs": [
        {
          "output_type": "execute_result",
          "data": {
            "text/plain": [
              "['sample_submission.csv', 'images', 'train.csv']"
            ]
          },
          "metadata": {
            "tags": []
          },
          "execution_count": 3
        }
      ]
    },
    {
      "cell_type": "markdown",
      "metadata": {
        "colab_type": "text",
        "id": "pkHAl5onDQjs"
      },
      "source": [
        "Trong đó:\n",
        "- **images**: thư mục chứa tất cả các ảnh dùng cho việc huấn luyện và đánh giá\n",
        "- **train.csv**: file CSV chứa tên các file và nhãn dùng cho việc huấn luyện\n",
        "- **sample_submission.csv**: file CSV mẫu chứa tên các file cần đánh giá và nhãn dummy."
      ]
    },
    {
      "cell_type": "markdown",
      "metadata": {
        "colab_type": "text",
        "id": "Rg3f7Xn6EFC-"
      },
      "source": [
        "## Đọc và xử lý dữ liệu"
      ]
    },
    {
      "cell_type": "markdown",
      "metadata": {
        "colab_type": "text",
        "id": "NLFGYbfMWDQ7"
      },
      "source": [
        "Đọc dữ liệu từ file CSV:"
      ]
    },
    {
      "cell_type": "code",
      "metadata": {
        "colab_type": "code",
        "id": "MH__gPbQJSLV",
        "outputId": "03bcc75f-4679-4ed7-91c7-e8247068bf16",
        "colab": {
          "base_uri": "https://localhost:8080/",
          "height": 198
        }
      },
      "source": [
        "train_df = pd.read_csv(os.path.join(data_dir, 'train.csv'))\n",
        "train_df.head()"
      ],
      "execution_count": 4,
      "outputs": [
        {
          "output_type": "execute_result",
          "data": {
            "text/html": [
              "<div>\n",
              "<style scoped>\n",
              "    .dataframe tbody tr th:only-of-type {\n",
              "        vertical-align: middle;\n",
              "    }\n",
              "\n",
              "    .dataframe tbody tr th {\n",
              "        vertical-align: top;\n",
              "    }\n",
              "\n",
              "    .dataframe thead th {\n",
              "        text-align: right;\n",
              "    }\n",
              "</style>\n",
              "<table border=\"1\" class=\"dataframe\">\n",
              "  <thead>\n",
              "    <tr style=\"text-align: right;\">\n",
              "      <th></th>\n",
              "      <th>image</th>\n",
              "      <th>label</th>\n",
              "    </tr>\n",
              "  </thead>\n",
              "  <tbody>\n",
              "    <tr>\n",
              "      <th>0</th>\n",
              "      <td>VietAI-Assignment3-1.jpg</td>\n",
              "      <td>7</td>\n",
              "    </tr>\n",
              "    <tr>\n",
              "      <th>1</th>\n",
              "      <td>VietAI-Assignment3-100.jpg</td>\n",
              "      <td>2</td>\n",
              "    </tr>\n",
              "    <tr>\n",
              "      <th>2</th>\n",
              "      <td>VietAI-Assignment3-10000.jpg</td>\n",
              "      <td>1</td>\n",
              "    </tr>\n",
              "    <tr>\n",
              "      <th>3</th>\n",
              "      <td>VietAI-Assignment3-10001.jpg</td>\n",
              "      <td>2</td>\n",
              "    </tr>\n",
              "    <tr>\n",
              "      <th>4</th>\n",
              "      <td>VietAI-Assignment3-10002.jpg</td>\n",
              "      <td>2</td>\n",
              "    </tr>\n",
              "  </tbody>\n",
              "</table>\n",
              "</div>"
            ],
            "text/plain": [
              "                          image  label\n",
              "0      VietAI-Assignment3-1.jpg      7\n",
              "1    VietAI-Assignment3-100.jpg      2\n",
              "2  VietAI-Assignment3-10000.jpg      1\n",
              "3  VietAI-Assignment3-10001.jpg      2\n",
              "4  VietAI-Assignment3-10002.jpg      2"
            ]
          },
          "metadata": {
            "tags": []
          },
          "execution_count": 4
        }
      ]
    },
    {
      "cell_type": "code",
      "metadata": {
        "colab_type": "code",
        "id": "WBRrzcibWMWa",
        "outputId": "cfeb7110-dcf9-4e35-ed06-84559d9a81fd",
        "colab": {
          "base_uri": "https://localhost:8080/",
          "height": 138
        }
      },
      "source": [
        "train_df.info()"
      ],
      "execution_count": 5,
      "outputs": [
        {
          "output_type": "stream",
          "text": [
            "<class 'pandas.core.frame.DataFrame'>\n",
            "RangeIndex: 8234 entries, 0 to 8233\n",
            "Data columns (total 2 columns):\n",
            "image    8234 non-null object\n",
            "label    8234 non-null int64\n",
            "dtypes: int64(1), object(1)\n",
            "memory usage: 128.7+ KB\n"
          ],
          "name": "stdout"
        }
      ]
    },
    {
      "cell_type": "code",
      "metadata": {
        "colab_type": "code",
        "id": "syh-kjLNbiQd",
        "outputId": "809aaf3a-3f42-46f4-d869-4ef09f338cce",
        "colab": {
          "base_uri": "https://localhost:8080/",
          "height": 198
        }
      },
      "source": [
        "test_df = pd.read_csv(os.path.join(data_dir, 'sample_submission.csv'))\n",
        "test_df.head()"
      ],
      "execution_count": 6,
      "outputs": [
        {
          "output_type": "execute_result",
          "data": {
            "text/html": [
              "<div>\n",
              "<style scoped>\n",
              "    .dataframe tbody tr th:only-of-type {\n",
              "        vertical-align: middle;\n",
              "    }\n",
              "\n",
              "    .dataframe tbody tr th {\n",
              "        vertical-align: top;\n",
              "    }\n",
              "\n",
              "    .dataframe thead th {\n",
              "        text-align: right;\n",
              "    }\n",
              "</style>\n",
              "<table border=\"1\" class=\"dataframe\">\n",
              "  <thead>\n",
              "    <tr style=\"text-align: right;\">\n",
              "      <th></th>\n",
              "      <th>image</th>\n",
              "      <th>label</th>\n",
              "    </tr>\n",
              "  </thead>\n",
              "  <tbody>\n",
              "    <tr>\n",
              "      <th>0</th>\n",
              "      <td>VietAI-Assignment3-10.jpg</td>\n",
              "      <td>0</td>\n",
              "    </tr>\n",
              "    <tr>\n",
              "      <th>1</th>\n",
              "      <td>VietAI-Assignment3-1000.jpg</td>\n",
              "      <td>0</td>\n",
              "    </tr>\n",
              "    <tr>\n",
              "      <th>2</th>\n",
              "      <td>VietAI-Assignment3-10004.jpg</td>\n",
              "      <td>0</td>\n",
              "    </tr>\n",
              "    <tr>\n",
              "      <th>3</th>\n",
              "      <td>VietAI-Assignment3-10006.jpg</td>\n",
              "      <td>0</td>\n",
              "    </tr>\n",
              "    <tr>\n",
              "      <th>4</th>\n",
              "      <td>VietAI-Assignment3-10012.jpg</td>\n",
              "      <td>0</td>\n",
              "    </tr>\n",
              "  </tbody>\n",
              "</table>\n",
              "</div>"
            ],
            "text/plain": [
              "                          image  label\n",
              "0     VietAI-Assignment3-10.jpg      0\n",
              "1   VietAI-Assignment3-1000.jpg      0\n",
              "2  VietAI-Assignment3-10004.jpg      0\n",
              "3  VietAI-Assignment3-10006.jpg      0\n",
              "4  VietAI-Assignment3-10012.jpg      0"
            ]
          },
          "metadata": {
            "tags": []
          },
          "execution_count": 6
        }
      ]
    },
    {
      "cell_type": "code",
      "metadata": {
        "colab_type": "code",
        "id": "jzBkL72Sbpg_",
        "outputId": "ffc484fd-bfee-4e42-d07f-78a062ac27ae",
        "colab": {
          "base_uri": "https://localhost:8080/",
          "height": 52
        }
      },
      "source": [
        "#test_df.info()\n",
        "test_df.label.value_counts()"
      ],
      "execution_count": 7,
      "outputs": [
        {
          "output_type": "execute_result",
          "data": {
            "text/plain": [
              "0    2059\n",
              "Name: label, dtype: int64"
            ]
          },
          "metadata": {
            "tags": []
          },
          "execution_count": 7
        }
      ]
    },
    {
      "cell_type": "markdown",
      "metadata": {
        "colab_type": "text",
        "id": "buXAweOvENiO"
      },
      "source": [
        "Tổng cộng có 8234 ảnh cho việc huấn luyện và 2059 ảnh cần dự đoán nhãn, ta tiến hành thống kê phân bố các nhãn trên tập huấn luyện:"
      ]
    },
    {
      "cell_type": "code",
      "metadata": {
        "colab_type": "code",
        "id": "lZPoB7-gV8C6",
        "outputId": "40aea92b-e5d9-41e0-e1a2-95b05f930abe",
        "colab": {
          "base_uri": "https://localhost:8080/",
          "height": 225
        }
      },
      "source": [
        "train_df.label.value_counts()"
      ],
      "execution_count": 8,
      "outputs": [
        {
          "output_type": "execute_result",
          "data": {
            "text/plain": [
              "2     1949\n",
              "1      846\n",
              "0      808\n",
              "3      764\n",
              "5      642\n",
              "4      599\n",
              "7      579\n",
              "10     575\n",
              "6      535\n",
              "8      469\n",
              "9      468\n",
              "Name: label, dtype: int64"
            ]
          },
          "metadata": {
            "tags": []
          },
          "execution_count": 8
        }
      ]
    },
    {
      "cell_type": "markdown",
      "metadata": {
        "colab_type": "text",
        "id": "Bo0z1gUIVcmj"
      },
      "source": [
        "Số lượng các ảnh cho mỗi lớp từ 400 đến 2000. Trong đó lớp số 2 có số lượng ảnh nhiều nhất."
      ]
    },
    {
      "cell_type": "markdown",
      "metadata": {
        "colab_type": "text",
        "id": "TtOnhMO_W_0D"
      },
      "source": [
        "## TODO 1: Cài đặt hàm đọc ảnh và đưa về NumPy Array\n",
        "Để máy tính hiểu được các ảnh, chúng ta cần đọc và chuyển các ảnh về tensor. Bên cạnh đó, các tensor biểu diễn cần có kích thước cố định nên trong quá trình đọc ảnh, ta cần thay đổi về kích thước mong muốn (resize ảnh). Trong các bài toán về deep learning, ta thường biểu diễn ảnh dưới dạng tensor có kích thước `(224,224,3)` với 3 kênh màu, 224 pixels cho mỗi kênh.\n",
        "\n",
        "Hoàn thành hàm `generate_data` bên dưới nhận vào 1 list N đường dẫn đến ảnh và kích thước `size` ảnh cần resize. Trả về numpy array có kích thước `(N,size,size,3)` với các giá trị được normalized trong khoảng \\[0 ; 1\\]."
      ]
    },
    {
      "cell_type": "code",
      "metadata": {
        "colab_type": "code",
        "id": "AIHjhdzRZ8Z3",
        "colab": {}
      },
      "source": [
        "def generate_data(image_paths, size=224):\n",
        "    \"\"\"\n",
        "    Đọc và chuyển các ảnh về numpy array\n",
        "    \n",
        "    Parameters\n",
        "    ----------\n",
        "    image_paths: list of N strings\n",
        "        List các đường dẫn ảnh\n",
        "    size: int\n",
        "        Kích thước ảnh cần resize\n",
        "    \n",
        "    Returns\n",
        "    -------\n",
        "    numpy array kích thước (N, size, size, 3)\n",
        "    \"\"\"\n",
        "    image_array = np.zeros((len(image_paths), size, size, 3), dtype='float32')\n",
        "    \n",
        "    for idx, image_path in tqdm(enumerate(image_paths)):\n",
        "        ### START CODE HERE\n",
        "        \n",
        "        # Đọc ảnh bằng thư viện Pillow và resize ảnh\n",
        "        image = Image.open(image_path)\n",
        "        image = image.resize((size, size))\n",
        "        \n",
        "        # Chuyển ảnh thành numpy array và gán lại mảng image_array\n",
        "        image = np.array(image)\n",
        "        normalized = image / 255\n",
        "        image_array[idx] = np.array(normalized)\n",
        "        \n",
        "        ### END CODE HERE\n",
        "    return image_array"
      ],
      "execution_count": 0,
      "outputs": []
    },
    {
      "cell_type": "markdown",
      "metadata": {
        "colab_type": "text",
        "id": "s9sI7QBibZdG"
      },
      "source": [
        "Sử dụng hàm `generate_data` để tạo ma trận của tập dữ liệu train và test:"
      ]
    },
    {
      "cell_type": "code",
      "metadata": {
        "colab_type": "code",
        "id": "X7UkA-_rbYzn",
        "outputId": "b3733306-b3c7-47d4-e2e8-74d529e3d4d1",
        "colab": {
          "base_uri": "https://localhost:8080/",
          "height": 35
        }
      },
      "source": [
        "# List các đường dẫn file cho việc huấn luyện\n",
        "train_files = [os.path.join(\"data/images\", file) for file in train_df.image]\n",
        "\n",
        "# List các nhãn\n",
        "train_y = train_df.label\n",
        "\n",
        "# Tạo numpy array cho dữ liệu huấn luyện\n",
        "train_arr = generate_data(train_files)"
      ],
      "execution_count": 10,
      "outputs": [
        {
          "output_type": "stream",
          "text": [
            "8234it [00:36, 228.69it/s]\n"
          ],
          "name": "stderr"
        }
      ]
    },
    {
      "cell_type": "markdown",
      "metadata": {
        "colab_type": "text",
        "id": "c9GkJ4Bfe2qc"
      },
      "source": [
        "Hãy kiểm tra kích thước của tensor `train_arr` vừa tạo ra. Kích thước đúng sẽ là `(8234,224,224,3)`."
      ]
    },
    {
      "cell_type": "code",
      "metadata": {
        "colab_type": "code",
        "id": "DxScb0w_e2Gh",
        "outputId": "cbf14521-8313-4dff-dba9-8552a92ba72a",
        "colab": {
          "base_uri": "https://localhost:8080/",
          "height": 35
        }
      },
      "source": [
        "train_arr.shape"
      ],
      "execution_count": 11,
      "outputs": [
        {
          "output_type": "execute_result",
          "data": {
            "text/plain": [
              "(8234, 224, 224, 3)"
            ]
          },
          "metadata": {
            "tags": []
          },
          "execution_count": 11
        }
      ]
    },
    {
      "cell_type": "markdown",
      "metadata": {
        "colab_type": "text",
        "id": "msp9WEgOfRdf"
      },
      "source": [
        "Tiến hành tạo tensor dữ liệu cho tập test:"
      ]
    },
    {
      "cell_type": "code",
      "metadata": {
        "colab_type": "code",
        "id": "0vI-AlLgfXi1",
        "outputId": "f7f267fd-f343-416f-9155-aa74a4607d59",
        "colab": {
          "base_uri": "https://localhost:8080/",
          "height": 52
        }
      },
      "source": [
        "test_files = [os.path.join(\"data/images\", file) for file in test_df.image]\n",
        "test_x = generate_data(test_files)\n",
        "test_x.shape"
      ],
      "execution_count": 12,
      "outputs": [
        {
          "output_type": "stream",
          "text": [
            "2059it [00:08, 229.46it/s]\n"
          ],
          "name": "stderr"
        },
        {
          "output_type": "execute_result",
          "data": {
            "text/plain": [
              "(2059, 224, 224, 3)"
            ]
          },
          "metadata": {
            "tags": []
          },
          "execution_count": 12
        }
      ]
    },
    {
      "cell_type": "markdown",
      "metadata": {
        "colab_type": "text",
        "id": "LssbDy2pf9ua"
      },
      "source": [
        "Tạo **one-hot labels** từ `train_y` để đưa vào huấn luyện với Tensorflow. "
      ]
    },
    {
      "cell_type": "code",
      "metadata": {
        "colab_type": "code",
        "id": "iVuRanKET6MO",
        "colab": {}
      },
      "source": [
        "num_classes = len(np.unique(train_y))\n",
        "y_ohe = tf.keras.utils.to_categorical(train_y, num_classes=num_classes)"
      ],
      "execution_count": 0,
      "outputs": []
    },
    {
      "cell_type": "markdown",
      "metadata": {
        "colab_type": "text",
        "id": "vjpnYIXRT6MT"
      },
      "source": [
        "## Chia dữ liệu để huấn luyện và đánh giá\n",
        "\n",
        "Ta sẽ không sử dụng 100% tập dữ liệu đã có nhãn để huấn luyện mà sẽ chỉ huấn luyện trên 75% bộ dữ liệu và sử dụng 25% còn lại dùng để đánh giá model qua các epoch.\n",
        "\n",
        "Chúng ta sử dụng hàm `train_test_split` trong thư viện sklearn để chia tập dữ liệu thành 2 phần train/validation một cách nhanh chóng."
      ]
    },
    {
      "cell_type": "code",
      "metadata": {
        "colab_type": "code",
        "id": "MtnwiHOZT6MU",
        "outputId": "1bc3e1d2-bd67-4a71-a6a9-06716271384d",
        "colab": {
          "base_uri": "https://localhost:8080/",
          "height": 35
        }
      },
      "source": [
        "x_train, x_valid, y_train_ohe, y_valid_ohe = train_test_split(train_arr, y_ohe, test_size=0.25)\n",
        "\n",
        "print(\"Train size: {} - Validation size: {}\".format(x_train.shape, x_valid.shape))"
      ],
      "execution_count": 14,
      "outputs": [
        {
          "output_type": "stream",
          "text": [
            "Train size: (6175, 224, 224, 3) - Validation size: (2059, 224, 224, 3)\n"
          ],
          "name": "stdout"
        }
      ]
    },
    {
      "cell_type": "markdown",
      "metadata": {
        "colab_type": "text",
        "id": "06g6e_u7T6MY"
      },
      "source": [
        "## Mô Hình CNN\n",
        "\n",
        "CNN bao gồm tập hợp các lớp cơ bản sau: convolutional layer + nonlinear layer (RELU, ...), pooling layer, fully connected layer. Các lớp này liên kết với nhau theo một thứ tự nhất định. Thông thường, một ảnh sẽ được lan truyền qua tầng convolutional layer + nonlinear layer đầu tiên, sau đó các giá trị tính toán được sẽ lan truyền qua pooling layer, bộ ba convolutional layer + nonlinear layer + pooling layer có thể được lặp lại nhiều lần trong network. Và sau đó được lan truyền qua tầng fully connected layer và softmax để tính xác suất ảnh đó thuộc lớp nào.\n",
        "\n",
        "![](https://pbcquoc.github.io/images/cnn_model.png)\n",
        "\n",
        "### Convolutional Layer\n",
        "Convolutional layer thường là lớp đầu tiên và cũng là lớp quan trọng nhất của mô hình CNN. Lớp này có chức năng chính là phát hiện các đặc trưng về không gian một cách hiệu quả. Trong tầng này có 4 đối tượng chính là: ma trận đầu vào, bộ **filter**, và **receptive field**, **feature map**. Conv layer nhận đầu vào là một ma trận 3 chiều và một bộ filter cần phải học. Bộ filters này sẽ trượt qua từng vị trí trên bức ảnh để tính tích chập (convolution) giữa bộ filter và phần tương ứng trên bức ảnh. Phần tương ứng này trên bức ảnh gọi là receptive field, tức là vùng mà một neuron có thể nhìn thấy để đưa ra quyết định, và ma trận sinh ra bởi quá trình này được gọi là feature map. Để hình dung, các bạn có thể tưởng tượng, bộ filters giống như các tháp canh trong nhà tù quét lần lượt qua không gian xung quanh để tìm kiếm tên tù nhân bỏ trốn. Khi phát hiện tên tù nhân bỏ trốn, thì chuông báo động sẽ reo lên, giống như các bộ filters tìm kiếm được đặc trưng nhất định thì tích chập đó sẽ cho giá trị lớn. \n",
        "\n",
        "<div class=\"img-div\" markdown=\"0\">\n",
        "    <img src=\"https://media.giphy.com/media/3orif7it9f4phjv4LS/giphy.gif\" />\n",
        "</div>\n",
        "\n",
        "Với ví dụ ở bên dưới, dữ liệu đầu vào là ma trận có kích thước 8x8x1, một bộ filter có kích thước 2x2x1, feature map có kích thước 7x7x1. Mỗi giá trị ở feature map được tính bằng tổng của tích các phần tử tương ứng của bộ filter 2x2x1 với receptive field trên ảnh. Và để tính tất cả các giá trị cho feature map, các bạn cần trượt filter từ trái sang phải, từ trên xuống dưới. Do đó, các bạn có thể thấy rằng phép convolution bảo toàn thứ tự không gian của các điểm ảnh. Ví dụ điểm góc trái của dữ liệu đầu vào sẽ tương ứng với bên một điểm bên góc trái của feature map. \n",
        "\n",
        "<div class=\"img-div\" markdown=\"0\">\n",
        "    <img src=\"https://pbcquoc.github.io/images/cnn_covolution_layer.png\" />\n",
        "</div>\n",
        "\n",
        "#### Tầng convolution như là feature detector \n",
        "\n",
        "Tầng convolution có chức năng chính là phát hiện đặc trưng cụ thể của bức ảnh. Những đặc trưng này bao gồm đặc trưng cơ bản là góc, cạnh, màu sắc, hoặc đặc trưng phức tạp hơn như texture của ảnh. Vì bộ filter quét qua toàn bộ bức ảnh, nên những đặc trưng này có thể nằm ở vị trí bất kì trong bức ảnh, cho dù ảnh bị xoay trái/phải thì những đặc trưng này vẫn được phát hiện. \n",
        "\n",
        "Ở minh họa dưới, các bạn có một filter 5x5 dùng để phát hiện góc/cạnh, filter này chỉ có giá trị một tại các điểm tương ứng một góc cong. \n",
        "\n",
        "<div class=\"img-div\" markdown=\"0\">\n",
        "    <img src=\"https://pbcquoc.github.io/images/cnn_high_level_feature.png\" />\n",
        "</div>\n",
        "\n",
        "Dùng filter ở trên trượt qua ảnh của nhân vật Olaf trong trong bộ phim Frozen. Chúng ta thấy rằng, chỉ ở những vị trí trên bức ảnh có dạng góc như đặc trưng ở filter thì mới có giá trị lớn trên feature map, những vị trí còn lại sẽ cho giá trị thấp hơn. Điều này có nghĩa là, filter đã phát hiện thành công một dạng góc/cạnh trên dữ liệu đầu vào. Tập hợp nhiều bộ filters sẽ cho phép các bạn phát hiện được nhiều loại đặc trưng khác nhau, và giúp định danh được đối tượng. \n",
        "\n",
        "<div class=\"img-div\" markdown=\"0\">\n",
        "    <img src=\"https://pbcquoc.github.io/images/cnn_high_level_feature_ex.png\" />\n",
        "</div>\n",
        "\n",
        "#### Các tham số của tầng convolution: Kích thước bộ filters, stride và padding\n",
        "\n",
        "Kích thước bộ filters là một trong những siêu tham số quan trọng nhất của tầng convolution. Kích thước này tỉ lệ thuận với số lượng tham số cần học tại mỗi tầng convolution và là tham số quyết định receptive field của tầng này. Kích thước phổ biến nhất của bộ filter là 3x3.\n"
      ]
    },
    {
      "cell_type": "markdown",
      "metadata": {
        "colab_type": "text",
        "id": "D8v6bMpmQZwU"
      },
      "source": [
        "# Xây dựng mô hình\n",
        "Các bạn cần phải xây dựng mô hình CNN có kiến trúc sau đây. Bộ filter có kích thước 3x3. Đối với các tham số còn lại, các bạn có thể tự do lựa chọn để cho ra kết quả huấn luyện tốt nhất.\n",
        "\n",
        "![](https://github.com/pbcquoc/cnn/raw/master/images/cnn_architecture_2.png)\n"
      ]
    },
    {
      "cell_type": "markdown",
      "metadata": {
        "colab_type": "text",
        "id": "HCXKoRsNT6Ma"
      },
      "source": [
        "## Định nghĩa block CNN\n",
        "Để hỗ trợ quá trình định nghĩa mô hình. Các bạn cần định nghĩa một block bao gồm 3 lớp sau: Conv2D, MaxPool2D, ReLU. Block này sẽ được tái sử dụng nhiều lần trong networks. Các layers cần được khai báo trong hàm init và được gọi trong hàm call. Hãy tham khảo ví dụ dưới đây.\n",
        "\n",
        "```python\n",
        "\n",
        "class ConvBlock(tf.keras.Model):\n",
        "    def __init__(self):\n",
        "        super(ConvBlock, self).__init__()\n",
        "        self.cnn = tf.keras.layers.Conv2D(32, (3, 3), strides=(1, 1),  padding=\"same\")\n",
        "        \n",
        "    def call(self, inputs, training=None, mask=None):\n",
        "        x = self.cnn(inputs)\n",
        "\n",
        "        return x\n",
        "```\n",
        "\n",
        "Các tài liệu tham khảo:\n",
        "- [tf.keras.layers.Conv2D](https://www.tensorflow.org/api_docs/python/tf/keras/layers/Conv2D)\n",
        "- [tf.keras.layers.MaxPool2D](https://www.tensorflow.org/api_docs/python/tf/keras/layers/MaxPool2D)"
      ]
    },
    {
      "cell_type": "code",
      "metadata": {
        "colab_type": "code",
        "id": "GkT5hTxjT6Mb",
        "colab": {}
      },
      "source": [
        "class ConvBlock(tf.keras.Model):\n",
        "    def __init__(self, filters, kernel, strides, padding):\n",
        "        '''\n",
        "        Khởi tạo Convolution Block với các tham số đầu vào\n",
        "        \n",
        "        Parameters\n",
        "        ----------\n",
        "        filters: int\n",
        "            số lượng filter\n",
        "        kernel: int\n",
        "            kích thước kernel\n",
        "        strides: int\n",
        "            stride của convolution layer\n",
        "        padding: str\n",
        "            Loại padding của convolution layer\n",
        "        \n",
        "        '''\n",
        "        \n",
        "        super(ConvBlock, self).__init__()\n",
        "        ## TODO 2\n",
        "        ### START CODE HERE\n",
        "        \n",
        "        # Tạo layer Conv2D\n",
        "        self.cnn = tf.keras.layers.Conv2D(filters = filters, \n",
        "                                          kernel_size = kernel, \n",
        "                                          strides = strides,  \n",
        "                                          padding = padding,\n",
        "                                          activation = 'relu')\n",
        "        \n",
        "        # Tạo layer MaxPool2D\n",
        "        self.pool = tf.keras.layers.MaxPool2D((2, 2))\n",
        "  \n",
        "        # Tạo các layer khác tùy ý nếu cần thiết\n",
        "\n",
        "        \n",
        "        ### END CODE HERE\n",
        "        \n",
        "        \n",
        "    def call(self, inputs):\n",
        "        '''\n",
        "        Hàm này sẽ được gọi trong quá trình forwarding của mạng\n",
        "        \n",
        "        Parameters\n",
        "        ----------\n",
        "        inputs: tensor đầu vào\n",
        "        \n",
        "        Returns\n",
        "        -------\n",
        "        tensor\n",
        "            giá trị đầu ra của mạng\n",
        "        '''\n",
        "        \n",
        "        x = None\n",
        "        ## TODO 3\n",
        "        ### START CODE HERE\n",
        "        \n",
        "        # Forward inputs qua từng layer và gán vào biến x để trả về\n",
        "        \n",
        "        x = self.cnn(inputs)\n",
        "        x = self.pool(x)\n",
        "        \n",
        "        ## END CODE HERE\n",
        "\n",
        "        return x"
      ],
      "execution_count": 0,
      "outputs": []
    },
    {
      "cell_type": "markdown",
      "metadata": {
        "colab_type": "text",
        "id": "D1avJ7wvxpFq"
      },
      "source": [
        "## Định nghĩa toàn bộ mô hình CNN\n",
        "Các bạn sử dụng block ở trên để định nghĩa toàn bộ mô hình CNN có kiến trúc như hình dưới. Các layer cần được khởi tạo trong hàm init, và được gọi trong hàm call."
      ]
    },
    {
      "cell_type": "code",
      "metadata": {
        "colab_type": "code",
        "id": "fn6w7oh-T6Md",
        "colab": {}
      },
      "source": [
        "class CNN(tf.keras.Model):\n",
        "    def __init__(self, num_classes):\n",
        "        \n",
        "        super(CNN, self).__init__()\n",
        "        \n",
        "        ## TODO 4\n",
        "        ### START CODE HERE\n",
        "        \n",
        "        # Khởi tạo các convolution block\n",
        "        self.block1 = ConvBlock(filters = 24, \n",
        "                                kernel = 3,\n",
        "                                strides = 1,\n",
        "                                padding = 'same')\n",
        "        \n",
        "        self.block2 = ConvBlock(filters = 48, \n",
        "                                kernel = 3,\n",
        "                                strides = 1,\n",
        "                                padding= 'same')\n",
        "        \n",
        "        self.block3 = ConvBlock(filters = 64, \n",
        "                                kernel = 3,\n",
        "                                strides = 1,\n",
        "                                padding='same')\n",
        "        \n",
        "        self.block4 = ConvBlock(filters = 128, \n",
        "                                kernel = 3,\n",
        "                                strides = 1, \n",
        "                                padding='same')\n",
        "        \n",
        "        self.block5 = ConvBlock(filters = 256, \n",
        "                                kernel = 3,\n",
        "                                strides = 1,\n",
        "                                padding='same')\n",
        "        \n",
        "        # Khởi tạo layer để flatten feature map \n",
        "        self.flatten = tf.keras.layers.Flatten()\n",
        "        \n",
        "        ### END CODE HERE\n",
        "        \n",
        "        ## TODO 5\n",
        "        ### START CODE HERE\n",
        "        \n",
        "        # Khởi tạo fully connected layer\n",
        "        self.dense1 = tf.keras.layers.Dense(units = 128, activation='relu')\n",
        "        self.dropout = tf.keras.layers.Dropout(rate=0.5)\n",
        "        self.dense2 = tf.keras.layers.Dense(units = num_classes)\n",
        "        \n",
        "        ### END CODE HERE\n",
        "\n",
        "    def call(self, inputs):\n",
        "        \n",
        "        ## TODO 6\n",
        "        x = None\n",
        "        ### START CODE HERE\n",
        "        \n",
        "        # Forward gía trị inputs qua các tầng CNN và gán vào x\n",
        "        x = self.block1.call(inputs)\n",
        "        x = self.block2.call(x)\n",
        "        x = self.block3.call(x)\n",
        "        x = self.block4.call(x)\n",
        "        x = self.block5.call(x)\n",
        "        \n",
        "        ### END CODE HERE\n",
        "        \n",
        "        ## TODO 7\n",
        "        x = self.flatten(x)\n",
        "        \n",
        "        ### START CODE HERE \n",
        "        \n",
        "        # Forward giá trị x qua Fully connected layer\n",
        "        x = self.dense1(x)\n",
        "        x = self.dropout(x)\n",
        "        x = self.dense2(x)\n",
        "        \n",
        "        ### END CODE HERE\n",
        "        \n",
        "        # Để sử dụng hàm softmax, ta phải thực thi trên CPU\n",
        "        with tf.device('/cpu:0'):\n",
        "            output = tf.nn.softmax(x)\n",
        "\n",
        "        return output"
      ],
      "execution_count": 0,
      "outputs": []
    },
    {
      "cell_type": "markdown",
      "metadata": {
        "colab_type": "text",
        "id": "K_jxGjdST6Mg"
      },
      "source": [
        "## TODO 2: Cài Đặt Block CNN trong lớp ConvBlock\n",
        "Sử dụng `tf.keras.layers.Conv2D` và `tf.keras.layers.MaxPool2D` để cài đặt tầng convolution và tầng pooling"
      ]
    },
    {
      "cell_type": "markdown",
      "metadata": {
        "colab_type": "text",
        "id": "_qngAyXgCt8B"
      },
      "source": [
        "## TODO 3: Gọi các tầng trong ConvBlock của lớp ConvBlock\n",
        "Hãy gọi các tầng đã cài đặt trọng lớp ConvBlock trong hàm call"
      ]
    },
    {
      "cell_type": "markdown",
      "metadata": {
        "colab_type": "text",
        "id": "6DN3gs3aT6Mg"
      },
      "source": [
        "## TODO 4: Khai báo ConvBlock 1,2,3,4,5 trong mô hình CNN\n",
        "Gọi ConvBlock đã cài đặt ở trên"
      ]
    },
    {
      "cell_type": "markdown",
      "metadata": {
        "colab_type": "text",
        "id": "Oj4C8OMZT6Mh"
      },
      "source": [
        "## TODO 5: Khai báo Tầng Fully Connected Layer cho mô hình CNN\n",
        "Gọi `tf.keras.layers.Dense` để cài đặt tầng này"
      ]
    },
    {
      "cell_type": "markdown",
      "metadata": {
        "colab_type": "text",
        "id": "qO-PkgqyT6Mj"
      },
      "source": [
        "## TODO 6: Gọi các tầng Conv đã khai báo trong mô hình CNN ở trên\n",
        "Gọi các tầng Conv đã cài đặt"
      ]
    },
    {
      "cell_type": "markdown",
      "metadata": {
        "colab_type": "text",
        "id": "CkbJdSYmT6Mk"
      },
      "source": [
        "## TODO 7: Gọi tầng Fully Connected Layer\n",
        "Hãy flatten tầng phía trước và gọi tầng fully connected layer để convert về ma trận có số chiều bằng số lớp cần phân loại"
      ]
    },
    {
      "cell_type": "markdown",
      "metadata": {
        "colab_type": "text",
        "id": "HeV9Ab03T6Mk"
      },
      "source": [
        "# Huấn Luyện\n",
        "Đoạn code này thực hiện quá trình huấn luyện mô hình CNN. Mỗi lần chạy mô hình sẽ lấy `batch_size` mẫu dữ liệu, feedforward, tính loss, và cập nhật gradient cho toàn bộ trọng số. Toàn bộ quá trình này được thực hiện trong hàm `fit()` được build sẵn trong model keras.\n",
        "\n",
        "Sau khi huấn luyện xong, chúng ta sẽ sử dụng mô hình để phân lớp các ảnh trong tập test bằng hàm `predict()`"
      ]
    },
    {
      "cell_type": "code",
      "metadata": {
        "colab_type": "code",
        "id": "5tmZonE2T6Ml",
        "outputId": "bb3446d0-7aeb-4e8c-c68d-dec7501925f8",
        "colab": {
          "base_uri": "https://localhost:8080/",
          "height": 1000
        }
      },
      "source": [
        "device = '/cpu:0' if tfe.num_gpus() == 0 else '/gpu:0'\n",
        "batch_size = 32\n",
        "epochs = 30\n",
        "\n",
        "with tf.device(device):\n",
        "    # Khởi tạo model\n",
        "    model = CNN(num_classes)\n",
        "    \n",
        "\n",
        "    # Tạo callback để lưu model có accuracy trên tập validation tốt nhất\n",
        "    mcp = tf.keras.callbacks.ModelCheckpoint(\"my_model.h5\", monitor=\"val_acc\",\n",
        "                      save_best_only=True, save_weights_only=True)\n",
        "    \n",
        "    # Compile model\n",
        "    model.compile(optimizer=tf.keras.optimizers.RMSprop(0.001), loss='categorical_crossentropy',\n",
        "                  metrics=['accuracy'])\n",
        "    \n",
        "    # Huấn luyện\n",
        "    model.fit(x_train, y_train_ohe, batch_size=batch_size, epochs=epochs,\n",
        "              validation_data=(x_valid, y_valid_ohe), verbose=1, callbacks=[mcp])\n"
      ],
      "execution_count": 17,
      "outputs": [
        {
          "output_type": "stream",
          "text": [
            "Train on 6175 samples, validate on 2059 samples\n",
            "Epoch 1/30\n",
            "6175/6175 [==============================] - 25s 4ms/sample - loss: 2.2472 - acc: 0.2559 - val_loss: 1.9695 - val_acc: 0.3526\n",
            "Epoch 2/30\n",
            "6175/6175 [==============================] - 20s 3ms/sample - loss: 1.9222 - acc: 0.3624 - val_loss: 1.7116 - val_acc: 0.4133\n",
            "Epoch 3/30\n",
            "6175/6175 [==============================] - 20s 3ms/sample - loss: 1.6480 - acc: 0.4594 - val_loss: 1.5487 - val_acc: 0.5114\n",
            "Epoch 4/30\n",
            "6175/6175 [==============================] - 20s 3ms/sample - loss: 1.3708 - acc: 0.5574 - val_loss: 1.1095 - val_acc: 0.6605\n",
            "Epoch 5/30\n",
            "6175/6175 [==============================] - 20s 3ms/sample - loss: 1.1515 - acc: 0.6304 - val_loss: 1.0757 - val_acc: 0.6736\n",
            "Epoch 6/30\n",
            "6175/6175 [==============================] - 20s 3ms/sample - loss: 0.9925 - acc: 0.6795 - val_loss: 0.9473 - val_acc: 0.7149\n",
            "Epoch 7/30\n",
            "6175/6175 [==============================] - 20s 3ms/sample - loss: 0.8691 - acc: 0.7252 - val_loss: 0.8824 - val_acc: 0.7290\n",
            "Epoch 8/30\n",
            "6175/6175 [==============================] - 20s 3ms/sample - loss: 0.7540 - acc: 0.7576 - val_loss: 0.9076 - val_acc: 0.7300\n",
            "Epoch 9/30\n",
            "6175/6175 [==============================] - 20s 3ms/sample - loss: 0.6762 - acc: 0.7857 - val_loss: 0.9574 - val_acc: 0.7280\n",
            "Epoch 10/30\n",
            "6175/6175 [==============================] - 19s 3ms/sample - loss: 0.6079 - acc: 0.8096 - val_loss: 0.8763 - val_acc: 0.7688\n",
            "Epoch 11/30\n",
            "6175/6175 [==============================] - 19s 3ms/sample - loss: 0.5644 - acc: 0.8241 - val_loss: 1.1835 - val_acc: 0.7154\n",
            "Epoch 12/30\n",
            "6175/6175 [==============================] - 19s 3ms/sample - loss: 0.5036 - acc: 0.8415 - val_loss: 1.1926 - val_acc: 0.7271\n",
            "Epoch 13/30\n",
            "6175/6175 [==============================] - 20s 3ms/sample - loss: 0.4891 - acc: 0.8523 - val_loss: 1.4219 - val_acc: 0.7343\n",
            "Epoch 14/30\n",
            "6175/6175 [==============================] - 20s 3ms/sample - loss: 0.4298 - acc: 0.8708 - val_loss: 1.0097 - val_acc: 0.7499\n",
            "Epoch 15/30\n",
            "6175/6175 [==============================] - 20s 3ms/sample - loss: 0.4394 - acc: 0.8682 - val_loss: 0.9991 - val_acc: 0.7635\n",
            "Epoch 16/30\n",
            "6175/6175 [==============================] - 20s 3ms/sample - loss: 0.4297 - acc: 0.8738 - val_loss: 1.1133 - val_acc: 0.7547\n",
            "Epoch 17/30\n",
            "6175/6175 [==============================] - 20s 3ms/sample - loss: 0.4303 - acc: 0.8758 - val_loss: 0.9884 - val_acc: 0.7790\n",
            "Epoch 18/30\n",
            "6175/6175 [==============================] - 20s 3ms/sample - loss: 0.4249 - acc: 0.8748 - val_loss: 1.3052 - val_acc: 0.7193\n",
            "Epoch 19/30\n",
            "6175/6175 [==============================] - 20s 3ms/sample - loss: 0.4608 - acc: 0.8729 - val_loss: 1.1090 - val_acc: 0.7397\n",
            "Epoch 20/30\n",
            "6175/6175 [==============================] - 20s 3ms/sample - loss: 0.4492 - acc: 0.8748 - val_loss: 1.1341 - val_acc: 0.7489\n",
            "Epoch 21/30\n",
            "6175/6175 [==============================] - 20s 3ms/sample - loss: 0.4693 - acc: 0.8674 - val_loss: 0.9185 - val_acc: 0.7698\n",
            "Epoch 22/30\n",
            "6175/6175 [==============================] - 20s 3ms/sample - loss: 0.5220 - acc: 0.8696 - val_loss: 1.1529 - val_acc: 0.6994\n",
            "Epoch 23/30\n",
            "6175/6175 [==============================] - 20s 3ms/sample - loss: 0.4969 - acc: 0.8751 - val_loss: 2.6322 - val_acc: 0.7081\n",
            "Epoch 24/30\n",
            "6175/6175 [==============================] - 20s 3ms/sample - loss: 0.4657 - acc: 0.8730 - val_loss: 1.3623 - val_acc: 0.7756\n",
            "Epoch 25/30\n",
            "6175/6175 [==============================] - 20s 3ms/sample - loss: 0.5269 - acc: 0.8606 - val_loss: 1.2099 - val_acc: 0.7829\n",
            "Epoch 26/30\n",
            "6175/6175 [==============================] - 20s 3ms/sample - loss: 0.5135 - acc: 0.8661 - val_loss: 1.4091 - val_acc: 0.7630\n",
            "Epoch 27/30\n",
            "6175/6175 [==============================] - 20s 3ms/sample - loss: 0.4908 - acc: 0.8656 - val_loss: 1.0680 - val_acc: 0.7678\n",
            "Epoch 28/30\n",
            "6175/6175 [==============================] - 20s 3ms/sample - loss: 0.4947 - acc: 0.8716 - val_loss: 1.1443 - val_acc: 0.7698\n",
            "Epoch 29/30\n",
            "6175/6175 [==============================] - 20s 3ms/sample - loss: 0.5505 - acc: 0.8562 - val_loss: 1.1276 - val_acc: 0.7251\n",
            "Epoch 30/30\n",
            "6175/6175 [==============================] - 20s 3ms/sample - loss: 0.5657 - acc: 0.8599 - val_loss: 4.7571 - val_acc: 0.7028\n"
          ],
          "name": "stdout"
        }
      ]
    },
    {
      "cell_type": "markdown",
      "metadata": {
        "colab_type": "text",
        "id": "5p4QgrUJT6Mp"
      },
      "source": [
        "# Dự Đoán các ảnh trên tập test\n",
        "\n",
        "Chúng ta sử dụng mô hình đã được huấn luyện bên trên để dự đoán cho các ảnh trong tập test, xuất ra file CSV và submit kết quả lên Kaggle:\n",
        "\n",
        "[Link nộp kết quả](https://www.kaggle.com/c/vietai-fc-cnn-assignment/submissions)"
      ]
    },
    {
      "cell_type": "markdown",
      "metadata": {
        "colab_type": "text",
        "id": "np3O0GgN4s3n"
      },
      "source": [
        "## Tạo và load model đã lưu trước đó"
      ]
    },
    {
      "cell_type": "code",
      "metadata": {
        "colab_type": "code",
        "id": "VnnCTqhBT6Mq",
        "outputId": "0efdc155-68f0-4f2f-8e5a-2f05fd7b747a",
        "colab": {
          "base_uri": "https://localhost:8080/",
          "height": 35
        }
      },
      "source": [
        "# Load best model\n",
        "model = CNN(num_classes)\n",
        "\n",
        "# Thiết lập kích thước input cho model\n",
        "dummy_x = tf.zeros((1, 224, 224, 3))\n",
        "model._set_inputs(dummy_x)\n",
        "\n",
        "# Load model đã lưu trước đó trong quá trình huấn luyện\n",
        "model.load_weights('my_model.h5')\n",
        "print(\"Model đã được load\")"
      ],
      "execution_count": 19,
      "outputs": [
        {
          "output_type": "stream",
          "text": [
            "Model đã được load\n"
          ],
          "name": "stdout"
        }
      ]
    },
    {
      "cell_type": "markdown",
      "metadata": {
        "colab_type": "text",
        "id": "QaMQvDMJ46Vs"
      },
      "source": [
        "## Dự đoán nhãn của các ảnh trên tập test"
      ]
    },
    {
      "cell_type": "markdown",
      "metadata": {
        "colab_type": "text",
        "id": "YLaGW2b55mqW"
      },
      "source": [
        "Sử dụng hàm predict để dự đoán:"
      ]
    },
    {
      "cell_type": "code",
      "metadata": {
        "colab_type": "code",
        "id": "TBl_-M0_T6Mt",
        "colab": {}
      },
      "source": [
        "pred = model.predict(test_x)\n",
        "\n",
        "# pred là một ma trận xác suất của ảnh trên các lớp.\n",
        "# Ta lấy lớp có xác suất cao nhất trên từng ảnh bằng hàm argmax\n",
        "pred_labels = np.argmax(pred, axis=1)"
      ],
      "execution_count": 0,
      "outputs": []
    },
    {
      "cell_type": "markdown",
      "metadata": {
        "colab_type": "text",
        "id": "ZqXMbQte5o7U"
      },
      "source": [
        "Hiển thị thử kết quả của tập test:"
      ]
    },
    {
      "cell_type": "code",
      "metadata": {
        "colab_type": "code",
        "id": "DhVAFRO3T6Nn",
        "outputId": "59c837bd-46bf-4894-f192-ba15a6fce159",
        "colab": {
          "base_uri": "https://localhost:8080/",
          "height": 648
        }
      },
      "source": [
        "test_df['label'] = pred_labels\n",
        "test_df.head(20)"
      ],
      "execution_count": 21,
      "outputs": [
        {
          "output_type": "execute_result",
          "data": {
            "text/html": [
              "<div>\n",
              "<style scoped>\n",
              "    .dataframe tbody tr th:only-of-type {\n",
              "        vertical-align: middle;\n",
              "    }\n",
              "\n",
              "    .dataframe tbody tr th {\n",
              "        vertical-align: top;\n",
              "    }\n",
              "\n",
              "    .dataframe thead th {\n",
              "        text-align: right;\n",
              "    }\n",
              "</style>\n",
              "<table border=\"1\" class=\"dataframe\">\n",
              "  <thead>\n",
              "    <tr style=\"text-align: right;\">\n",
              "      <th></th>\n",
              "      <th>image</th>\n",
              "      <th>label</th>\n",
              "    </tr>\n",
              "  </thead>\n",
              "  <tbody>\n",
              "    <tr>\n",
              "      <th>0</th>\n",
              "      <td>VietAI-Assignment3-10.jpg</td>\n",
              "      <td>2</td>\n",
              "    </tr>\n",
              "    <tr>\n",
              "      <th>1</th>\n",
              "      <td>VietAI-Assignment3-1000.jpg</td>\n",
              "      <td>10</td>\n",
              "    </tr>\n",
              "    <tr>\n",
              "      <th>2</th>\n",
              "      <td>VietAI-Assignment3-10004.jpg</td>\n",
              "      <td>10</td>\n",
              "    </tr>\n",
              "    <tr>\n",
              "      <th>3</th>\n",
              "      <td>VietAI-Assignment3-10006.jpg</td>\n",
              "      <td>5</td>\n",
              "    </tr>\n",
              "    <tr>\n",
              "      <th>4</th>\n",
              "      <td>VietAI-Assignment3-10012.jpg</td>\n",
              "      <td>9</td>\n",
              "    </tr>\n",
              "    <tr>\n",
              "      <th>5</th>\n",
              "      <td>VietAI-Assignment3-10029.jpg</td>\n",
              "      <td>4</td>\n",
              "    </tr>\n",
              "    <tr>\n",
              "      <th>6</th>\n",
              "      <td>VietAI-Assignment3-10034.jpg</td>\n",
              "      <td>5</td>\n",
              "    </tr>\n",
              "    <tr>\n",
              "      <th>7</th>\n",
              "      <td>VietAI-Assignment3-10037.jpg</td>\n",
              "      <td>0</td>\n",
              "    </tr>\n",
              "    <tr>\n",
              "      <th>8</th>\n",
              "      <td>VietAI-Assignment3-1005.jpg</td>\n",
              "      <td>10</td>\n",
              "    </tr>\n",
              "    <tr>\n",
              "      <th>9</th>\n",
              "      <td>VietAI-Assignment3-10052.jpg</td>\n",
              "      <td>4</td>\n",
              "    </tr>\n",
              "    <tr>\n",
              "      <th>10</th>\n",
              "      <td>VietAI-Assignment3-10053.jpg</td>\n",
              "      <td>3</td>\n",
              "    </tr>\n",
              "    <tr>\n",
              "      <th>11</th>\n",
              "      <td>VietAI-Assignment3-10055.jpg</td>\n",
              "      <td>2</td>\n",
              "    </tr>\n",
              "    <tr>\n",
              "      <th>12</th>\n",
              "      <td>VietAI-Assignment3-10056.jpg</td>\n",
              "      <td>2</td>\n",
              "    </tr>\n",
              "    <tr>\n",
              "      <th>13</th>\n",
              "      <td>VietAI-Assignment3-10066.jpg</td>\n",
              "      <td>2</td>\n",
              "    </tr>\n",
              "    <tr>\n",
              "      <th>14</th>\n",
              "      <td>VietAI-Assignment3-10068.jpg</td>\n",
              "      <td>1</td>\n",
              "    </tr>\n",
              "    <tr>\n",
              "      <th>15</th>\n",
              "      <td>VietAI-Assignment3-1008.jpg</td>\n",
              "      <td>1</td>\n",
              "    </tr>\n",
              "    <tr>\n",
              "      <th>16</th>\n",
              "      <td>VietAI-Assignment3-10081.jpg</td>\n",
              "      <td>2</td>\n",
              "    </tr>\n",
              "    <tr>\n",
              "      <th>17</th>\n",
              "      <td>VietAI-Assignment3-10084.jpg</td>\n",
              "      <td>10</td>\n",
              "    </tr>\n",
              "    <tr>\n",
              "      <th>18</th>\n",
              "      <td>VietAI-Assignment3-10085.jpg</td>\n",
              "      <td>2</td>\n",
              "    </tr>\n",
              "    <tr>\n",
              "      <th>19</th>\n",
              "      <td>VietAI-Assignment3-10095.jpg</td>\n",
              "      <td>2</td>\n",
              "    </tr>\n",
              "  </tbody>\n",
              "</table>\n",
              "</div>"
            ],
            "text/plain": [
              "                           image  label\n",
              "0      VietAI-Assignment3-10.jpg      2\n",
              "1    VietAI-Assignment3-1000.jpg     10\n",
              "2   VietAI-Assignment3-10004.jpg     10\n",
              "3   VietAI-Assignment3-10006.jpg      5\n",
              "4   VietAI-Assignment3-10012.jpg      9\n",
              "5   VietAI-Assignment3-10029.jpg      4\n",
              "6   VietAI-Assignment3-10034.jpg      5\n",
              "7   VietAI-Assignment3-10037.jpg      0\n",
              "8    VietAI-Assignment3-1005.jpg     10\n",
              "9   VietAI-Assignment3-10052.jpg      4\n",
              "10  VietAI-Assignment3-10053.jpg      3\n",
              "11  VietAI-Assignment3-10055.jpg      2\n",
              "12  VietAI-Assignment3-10056.jpg      2\n",
              "13  VietAI-Assignment3-10066.jpg      2\n",
              "14  VietAI-Assignment3-10068.jpg      1\n",
              "15   VietAI-Assignment3-1008.jpg      1\n",
              "16  VietAI-Assignment3-10081.jpg      2\n",
              "17  VietAI-Assignment3-10084.jpg     10\n",
              "18  VietAI-Assignment3-10085.jpg      2\n",
              "19  VietAI-Assignment3-10095.jpg      2"
            ]
          },
          "metadata": {
            "tags": []
          },
          "execution_count": 21
        }
      ]
    },
    {
      "cell_type": "markdown",
      "metadata": {
        "colab_type": "text",
        "id": "QlJ9T6eN5u9n"
      },
      "source": [
        "Lưu kết quả thành file CSV:"
      ]
    },
    {
      "cell_type": "code",
      "metadata": {
        "colab_type": "code",
        "id": "wx7VJJnCozqu",
        "colab": {}
      },
      "source": [
        "test_df.to_csv(\"submission.csv\", index=False)"
      ],
      "execution_count": 0,
      "outputs": []
    },
    {
      "cell_type": "markdown",
      "metadata": {
        "colab_type": "text",
        "id": "YLo6SJb-AjWD"
      },
      "source": [
        "## Nộp kết quả lên Kaggle"
      ]
    },
    {
      "cell_type": "markdown",
      "metadata": {
        "colab_type": "text",
        "id": "u9oGE4zfA5J9"
      },
      "source": [
        "1. Truy cập vào [Kaggle](https://www.kaggle.com), đăng ký/ đăng nhập tài khoản.\n",
        "\n",
        "2. Truy cập vào đường dẫn của competition [VietAI Foundation Course - CNN Assignment](https://www.kaggle.com/t/1ca504e0910d4bfc9ba0ad0ffca12e2e).\n",
        "\n",
        "3. Nhấn vào nút **Join Competition**.\n",
        "![alt text](https://storage.googleapis.com/vietai/Screen%20Shot%202019-05-13%20at%2018.48.12.png)\n",
        "\n",
        "4. Nhấn vào nút **I Understand and Accept**.\n",
        "![alt text](https://storage.googleapis.com/vietai/Screen%20Shot%202019-05-13%20at%2018.48.52.png)\n",
        "\n",
        "5. Chọn **Team**.\n",
        "![alt text](https://storage.googleapis.com/vietai/Screen%20Shot%202019-05-13%20at%2018.49.43.png)\n",
        "\n",
        "6. Đặt team name theo đúng họ và tên của bạn và bấm **Save team name**.\n",
        "![alt text](https://storage.googleapis.com/vietai/Screen%20Shot%202019-05-13%20at%2018.50.30.png)\n",
        "\n",
        "7. Để nộp file CSV vừa tạo, các bạn nhấp vào **Submit Predictions**.\n",
        " ![alt text](https://storage.googleapis.com/vietai/Screen%20Shot%202019-05-13%20at%2018.51.39.png)\n",
        " \n",
        "8. Upload file CSV và nộp.\n",
        " ![alt text](https://storage.googleapis.com/vietai/Screen%20Shot%202019-05-13%20at%2018.52.19.png)\n",
        "\n",
        "9. Sau khi nộp, màn hình sẽ hiện ra kết quả, để biết vị trí mình trên leaderboard, các bạn nhấp vào **Jump to your position on the leaderboard**.\n",
        " ![alt text](https://storage.googleapis.com/vietai/Screen%20Shot%202019-05-13%20at%2018.55.23.png)\n",
        "\n",
        "10. Leaderboard sẽ như sau:\n",
        " ![alt text](https://storage.googleapis.com/vietai/Screen%20Shot%202019-05-13%20at%2018.55.32.png)"
      ]
    },
    {
      "cell_type": "markdown",
      "metadata": {
        "colab_type": "text",
        "id": "VB59gzvrksdZ"
      },
      "source": [
        "# Thang điểm\n",
        "\n",
        "- Hoàn tất codes trên Notebook: 7đ\n",
        "- Kaggle:\n",
        "  \n",
        "  + Vượt qua baseline1: 3đ\n",
        "  + Vượt qua baseline2: +1đ\n",
        "  + Vượt qua baseline3: +1đ"
      ]
    },
    {
      "cell_type": "markdown",
      "metadata": {
        "colab_type": "text",
        "id": "9v5Pu5JEQfnc"
      },
      "source": [
        "# Authors: Quoc Pham, Chuong Huynh"
      ]
    }
  ]
}